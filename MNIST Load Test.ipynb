{
 "cells": [
  {
   "cell_type": "code",
   "execution_count": 18,
   "metadata": {},
   "outputs": [
    {
     "name": "stdout",
     "output_type": "stream",
     "text": [
      "The autoreload extension is already loaded. To reload it, use:\n",
      "  %reload_ext autoreload\n"
     ]
    }
   ],
   "source": [
    "%load_ext autoreload\n",
    "\n",
    "%autoreload 2\n",
    "    \n",
    "%matplotlib inline\n",
    "import matplotlib.pyplot as plt\n",
    "import numpy as np\n",
    "import torch\n",
    "from torchvision import transforms\n",
    "from torchvision.datasets import MNIST\n",
    "from torchir.utils import IRDataSet\n",
    "from tqdm import tqdm\n",
    "from pathlib import Path\n",
    "\n",
    "DEST_DIR = Path('./MNIST_output')"
   ]
  },
  {
   "cell_type": "markdown",
   "metadata": {},
   "source": [
    "Then we create a specific dataset class that selects MNIST instances with a specific class label. Here we take all number 9s."
   ]
  },
  {
   "cell_type": "code",
   "execution_count": 2,
   "metadata": {},
   "outputs": [],
   "source": [
    "class MNISTSubSet(MNIST):\n",
    "    '''\n",
    "    A Dataset class that selects a single type of MNIST digit.\n",
    "    '''\n",
    "    def __init__(self, label, rng=np.random.default_rng(), *args, **kwargs):\n",
    "        super().__init__(*args, **kwargs)\n",
    "        assert(label >= 0 and label <= 9)\n",
    "        idcs = torch.where(self.targets == label)\n",
    "        \n",
    "        self.data = self.data[idcs]\n",
    "        self.targets = self.targets[idcs]\n",
    "\n",
    "        self.transform = transform\n",
    "        self.rng = rng\n",
    "        \n",
    "    def __getitem__(self, idx):\n",
    "        return super().__getitem__(idx)[0] # only return image\n"
   ]
  },
  {
   "cell_type": "markdown",
   "metadata": {},
   "source": [
    "Next we set up the dataloaders."
   ]
  },
  {
   "cell_type": "code",
   "execution_count": 3,
   "metadata": {},
   "outputs": [],
   "source": [
    "# Create a new instance of the dataset\n",
    "rng = np.random.default_rng(808)\n",
    "\n",
    "# transforms.ToTensor(): Converts a PIL (Python Imaging Library) image or a numpy array to a PyTorch tensor. Additionally, it scales the \n",
    "# image's pixel intensity values to the range [0, 1].\n",
    "# transforms.Normalize(): Normalizes a tensor image with mean and standard deviation. Here, it takes the values of the tensor \n",
    "# (originally in [0,1] due to ToTensor()) and transforms them to the range [-1,1]\n",
    "transform=transforms.Compose([transforms.ToTensor(),\n",
    "                              transforms.Normalize((0.5), (0.5)),\n",
    "                             ])\n",
    "ds_train_subset = MNISTSubSet(label=9, rng=rng, root='./MNIST_datasets/',  transform=transform, download=True, train=True)"
   ]
  },
  {
   "cell_type": "markdown",
   "metadata": {},
   "source": [
    "We reserve part of the training set for validation. Note that we only select a small number for validation. This will become clear immediately after this block."
   ]
  },
  {
   "cell_type": "code",
   "execution_count": 4,
   "metadata": {},
   "outputs": [
    {
     "name": "stdout",
     "output_type": "stream",
     "text": [
      "Training subset size: 5929\n",
      "Validation subset size: 20\n",
      "Test subset size: 1009\n"
     ]
    }
   ],
   "source": [
    "val_set_size = 20\n",
    "train_set_size = len(ds_train_subset) - val_set_size\n",
    "ds_train_subset, ds_validation_subset = torch.utils.data.random_split(ds_train_subset, [train_set_size, val_set_size], \n",
    "                                                        generator=torch.Generator().manual_seed(808))\n",
    "ds_test_subset = MNISTSubSet(label=9, rng=rng, root='./MNIST_datasets/',  transform=transform, download=True, train=False)\n",
    "print(f'Training subset size: {len(ds_train_subset)}')\n",
    "print(f'Validation subset size: {len(ds_validation_subset)}')\n",
    "print(f'Test subset size: {len(ds_test_subset)}')"
   ]
  },
  {
   "cell_type": "markdown",
   "metadata": {},
   "source": [
    "Now we will employ a convenience class to convert the training and validation data sets into image registration sets. The new class will provide all possible permutations of the input dataset. Note that this will heavily increase the number of training instances (i.e. there are many fixed and moving image permutations). Note that we will use the test set later in a different manner."
   ]
  },
  {
   "cell_type": "code",
   "execution_count": 5,
   "metadata": {},
   "outputs": [
    {
     "name": "stdout",
     "output_type": "stream",
     "text": [
      "Training IR set size: 35153041\n",
      "Validation IR set size: 400\n"
     ]
    }
   ],
   "source": [
    "# Each entry in the dataset will be a dictionary containing a 'fixed' and a 'moving' image.\n",
    "ds_train = IRDataSet(ds_train_subset)\n",
    "ds_validation = IRDataSet(ds_validation_subset)\n",
    "\n",
    "# IRDataSet will create pairs of x and all other items in ds to serve as fixed and moving images for registration tasks. \n",
    "# That's why the length of this dataset is len(ds) × len(ds).\n",
    "print(f'Training IR set size: {len(ds_train)}')\n",
    "print(f'Validation IR set size: {len(ds_validation)}')"
   ]
  },
  {
   "cell_type": "markdown",
   "metadata": {},
   "source": [
    "Note that each instance of an IR dataset is a permutation of a fixed and moving image. This results in a very high number of possible permutations. Since Pytorch Lightning does not play well with iterations and rather likes epochs, we limit the number of permutations per epoch by setting up our own data samplers:"
   ]
  },
  {
   "cell_type": "code",
   "execution_count": 6,
   "metadata": {},
   "outputs": [],
   "source": [
    "batch_size = 32\n",
    "training_batches = 100\n",
    "validation_batches = 10\n",
    "\n",
    "# RandomSampler: Samples elements randomly from a given list of indices, with replacement.\n",
    "# num_samples: ensures that we get the desired number of training samples for each epoch.\n",
    "train_sampler = torch.utils.data.RandomSampler(ds_train, replacement=True, \n",
    "                                               num_samples=training_batches*batch_size, \n",
    "                                               generator=torch.Generator().manual_seed(808))\n",
    "\n",
    "# DataLoader: Combines a dataset and a sampler, and provides an iterable over the given dataset.\n",
    "train_loader = torch.utils.data.DataLoader(ds_train, batch_size, sampler=train_sampler)\n",
    "\n",
    "# Since no sampler is provided, it will simply iterate over the dataset in its original order.\n",
    "val_loader = torch.utils.data.DataLoader(ds_validation, batch_size)"
   ]
  },
  {
   "cell_type": "code",
   "execution_count": 13,
   "metadata": {},
   "outputs": [],
   "source": [
    "def visualize(model):\n",
    "    avg_moving = np.zeros((28, 28), dtype=float)\n",
    "    avg_warped = np.zeros((28, 28), dtype=float)\n",
    "    model = model.cuda()\n",
    "    model.eval()\n",
    "    fixed = ds_test_subset[0]\n",
    "    with torch.no_grad():\n",
    "        for moving in tqdm(ds_test_subset):\n",
    "            warped = model(fixed[None].cuda(), moving[None].cuda()).detach().squeeze().cpu().numpy()\n",
    "            avg_moving += moving.squeeze().cpu().numpy() / len(ds_test_subset)\n",
    "            avg_warped += warped / len(ds_test_subset)\n",
    "\n",
    "    fig, axarr = plt.subplots(1, 3, figsize=(10, 3.5))\n",
    "    axarr[0].imshow(-fixed.squeeze().cpu().numpy(), cmap='gray', vmin=-1, vmax=1)\n",
    "    axarr[1].imshow(-avg_moving, cmap='gray', vmin=-1, vmax=1)\n",
    "    axarr[2].imshow(-avg_warped, cmap='gray', vmin=-1, vmax=1)\n",
    "    for ax in axarr.ravel():\n",
    "        ax.axis('off')\n",
    "\n",
    "    axarr[0].set_title('fixed image')\n",
    "    axarr[1].set_title('images before registration')\n",
    "    axarr[2].set_title('images after registration')\n",
    "\n",
    "    fig.suptitle('Deformable image registration network (DIRNet)')"
   ]
  },
  {
   "cell_type": "markdown",
   "metadata": {},
   "source": [
    "We have setup all our data classes and now we can start the image registration experiments."
   ]
  },
  {
   "cell_type": "markdown",
   "metadata": {},
   "source": [
    "If you want to inspect the data, use tensorboard. The logs are stored in the specified `DEST_DIR`.\n",
    "> tensorboard --logdir=./output/lightning_logs"
   ]
  },
  {
   "cell_type": "markdown",
   "metadata": {},
   "source": [
    "## 先试一下单独一个框架怎么load 参数"
   ]
  },
  {
   "cell_type": "markdown",
   "metadata": {},
   "source": [
    "In [2] I also demonstrated that multiple coarse-to-fine registration layers improve image registration. Now let's implement this using the DLIRFramework module. I chose a dynamic implementation where we add a layer. We train the layer. We add another layer and fix the weight of the previous layer. We train the new layer. Etc..."
   ]
  },
  {
   "cell_type": "code",
   "execution_count": 8,
   "metadata": {},
   "outputs": [
    {
     "name": "stderr",
     "output_type": "stream",
     "text": [
      "c:\\Users\\s4692034\\AppData\\Local\\anaconda3\\envs\\cardiac\\lib\\site-packages\\torchaudio\\backend\\utils.py:74: UserWarning: No audio backend is available.\n",
      "  warnings.warn(\"No audio backend is available.\")\n"
     ]
    }
   ],
   "source": [
    "import pytorch_lightning as pl\n",
    "from torchir.networks import DIRNet\n",
    "from torchir.metrics import NCC\n",
    "from torchir.transformers import BsplineTransformer\n",
    "from torchir.dlir_framework import DLIRFramework"
   ]
  },
  {
   "cell_type": "code",
   "execution_count": 9,
   "metadata": {},
   "outputs": [],
   "source": [
    "class LitDIRNet(pl.LightningModule):\n",
    "    def __init__(self):\n",
    "        super().__init__()\n",
    "        grid_spacing = (8, 8)\n",
    "        self.dirnet = DIRNet(kernels=16, grid_spacing=grid_spacing)\n",
    "        self.bspline_transformer = BsplineTransformer(ndim=2, upsampling_factors=grid_spacing)\n",
    "        self.metric = NCC()\n",
    "    \n",
    "    def configure_optimizers(self):\n",
    "        lr = 0.001\n",
    "\n",
    "        # Configures and returns the optimizer (Adam with AMSGrad) to be used for training.\n",
    "        optimizer = torch.optim.Adam(self.dirnet.parameters(), lr=lr, amsgrad=True)\n",
    "        return optimizer\n",
    "\n",
    "    def forward(self, fixed, moving):\n",
    "        params = self.dirnet(fixed, moving)\n",
    "\n",
    "        # Uses the BsplineTransformer to produce the warped image.\n",
    "        warped = self.bspline_transformer(params, fixed, moving)\n",
    "        return warped\n",
    "    \n",
    "    def training_step(self, batch, batch_idx):\n",
    "        warped = self(batch['fixed'], batch['moving'])\n",
    "\n",
    "        # Computes the warped image and calculates the loss using the NCC metric.\n",
    "        loss = self.metric(batch['fixed'], warped)\n",
    "\n",
    "        # Logs the training loss.\n",
    "        self.log('NCC/training', loss)\n",
    "        return loss\n",
    "    \n",
    "    def validation_step(self, batch, batch_idx):\n",
    "        warped = self(batch['fixed'], batch['moving'])\n",
    "        loss = self.metric(batch['fixed'], warped)\n",
    "        self.log('NCC/validation', loss)\n",
    "        return loss  "
   ]
  },
  {
   "cell_type": "code",
   "execution_count": 12,
   "metadata": {},
   "outputs": [
    {
     "name": "stderr",
     "output_type": "stream",
     "text": [
      "GPU available: True (cuda), used: True\n",
      "TPU available: False, using: 0 TPU cores\n",
      "IPU available: False, using: 0 IPUs\n",
      "HPU available: False, using: 0 HPUs\n",
      "You are using a CUDA device ('NVIDIA RTX A6000') that has Tensor Cores. To properly utilize them, you should set `torch.set_float32_matmul_precision('medium' | 'high')` which will trade-off precision for performance. For more details, read https://pytorch.org/docs/stable/generated/torch.set_float32_matmul_precision.html#torch.set_float32_matmul_precision\n",
      "LOCAL_RANK: 0 - CUDA_VISIBLE_DEVICES: [0,1]\n",
      "\n",
      "  | Name                | Type               | Params\n",
      "-----------------------------------------------------------\n",
      "0 | dirnet              | DIRNet             | 10.2 K\n",
      "1 | bspline_transformer | BsplineTransformer | 1.0 K \n",
      "2 | metric              | NCC                | 0     \n",
      "-----------------------------------------------------------\n",
      "10.2 K    Trainable params\n",
      "1.0 K     Non-trainable params\n",
      "11.2 K    Total params\n",
      "0.045     Total estimated model params size (MB)\n"
     ]
    },
    {
     "name": "stdout",
     "output_type": "stream",
     "text": [
      "Sanity Checking DataLoader 0:   0%|          | 0/2 [00:00<?, ?it/s]"
     ]
    },
    {
     "name": "stderr",
     "output_type": "stream",
     "text": [
      "c:\\Users\\s4692034\\AppData\\Local\\anaconda3\\envs\\cardiac\\lib\\site-packages\\pytorch_lightning\\trainer\\connectors\\data_connector.py:442: PossibleUserWarning: The dataloader, val_dataloader, does not have many workers which may be a bottleneck. Consider increasing the value of the `num_workers` argument` (try 24 which is the number of cpus on this machine) in the `DataLoader` init to improve performance.\n",
      "  rank_zero_warn(\n"
     ]
    },
    {
     "name": "stdout",
     "output_type": "stream",
     "text": [
      "                                                                           "
     ]
    },
    {
     "name": "stderr",
     "output_type": "stream",
     "text": [
      "c:\\Users\\s4692034\\AppData\\Local\\anaconda3\\envs\\cardiac\\lib\\site-packages\\torch\\functional.py:504: UserWarning: torch.meshgrid: in an upcoming release, it will be required to pass the indexing argument. (Triggered internally at C:\\cb\\pytorch_1000000000000\\work\\aten\\src\\ATen\\native\\TensorShape.cpp:3484.)\n",
      "  return _VF.meshgrid(tensors, **kwargs)  # type: ignore[attr-defined]\n",
      "c:\\Users\\s4692034\\AppData\\Local\\anaconda3\\envs\\cardiac\\lib\\site-packages\\pytorch_lightning\\trainer\\connectors\\data_connector.py:442: PossibleUserWarning: The dataloader, train_dataloader, does not have many workers which may be a bottleneck. Consider increasing the value of the `num_workers` argument` (try 24 which is the number of cpus on this machine) in the `DataLoader` init to improve performance.\n",
      "  rank_zero_warn(\n"
     ]
    },
    {
     "name": "stdout",
     "output_type": "stream",
     "text": [
      "Epoch 99: 100%|██████████| 100/100 [00:03<00:00, 31.22it/s, v_num=3]"
     ]
    },
    {
     "name": "stderr",
     "output_type": "stream",
     "text": [
      "`Trainer.fit` stopped: `max_epochs=100` reached.\n"
     ]
    },
    {
     "name": "stdout",
     "output_type": "stream",
     "text": [
      "Epoch 99: 100%|██████████| 100/100 [00:03<00:00, 31.22it/s, v_num=3]\n"
     ]
    },
    {
     "ename": "ImportError",
     "evalue": "IProgress not found. Please update jupyter and ipywidgets. See https://ipywidgets.readthedocs.io/en/stable/user_install.html",
     "output_type": "error",
     "traceback": [
      "\u001b[1;31m---------------------------------------------------------------------------\u001b[0m",
      "\u001b[1;31mImportError\u001b[0m                               Traceback (most recent call last)",
      "\u001b[1;32mc:\\Users\\s4692034\\Documents\\GitHub\\TorchIR\\MNIST Load Test.ipynb Cell 19\u001b[0m line \u001b[0;36m1\n\u001b[0;32m      <a href='vscode-notebook-cell:/c%3A/Users/s4692034/Documents/GitHub/TorchIR/MNIST%20Load%20Test.ipynb#X24sZmlsZQ%3D%3D?line=8'>9</a>\u001b[0m trainer\u001b[39m.\u001b[39msave_checkpoint(DEST_DIR \u001b[39m/\u001b[39m \u001b[39m'\u001b[39m\u001b[39mmnist_ir_8.ckpt\u001b[39m\u001b[39m'\u001b[39m)\n\u001b[0;32m     <a href='vscode-notebook-cell:/c%3A/Users/s4692034/Documents/GitHub/TorchIR/MNIST%20Load%20Test.ipynb#X24sZmlsZQ%3D%3D?line=9'>10</a>\u001b[0m torch\u001b[39m.\u001b[39msave(model1\u001b[39m.\u001b[39mstate_dict(), DEST_DIR \u001b[39m/\u001b[39m \u001b[39m'\u001b[39m\u001b[39mmnist_dlir_8.pt\u001b[39m\u001b[39m'\u001b[39m)\n\u001b[1;32m---> <a href='vscode-notebook-cell:/c%3A/Users/s4692034/Documents/GitHub/TorchIR/MNIST%20Load%20Test.ipynb#X24sZmlsZQ%3D%3D?line=10'>11</a>\u001b[0m visualize(model1)\n",
      "\u001b[1;32mc:\\Users\\s4692034\\Documents\\GitHub\\TorchIR\\MNIST Load Test.ipynb Cell 19\u001b[0m line \u001b[0;36m8\n\u001b[0;32m      <a href='vscode-notebook-cell:/c%3A/Users/s4692034/Documents/GitHub/TorchIR/MNIST%20Load%20Test.ipynb#X24sZmlsZQ%3D%3D?line=5'>6</a>\u001b[0m fixed \u001b[39m=\u001b[39m ds_test_subset[\u001b[39m0\u001b[39m]\n\u001b[0;32m      <a href='vscode-notebook-cell:/c%3A/Users/s4692034/Documents/GitHub/TorchIR/MNIST%20Load%20Test.ipynb#X24sZmlsZQ%3D%3D?line=6'>7</a>\u001b[0m \u001b[39mwith\u001b[39;00m torch\u001b[39m.\u001b[39mno_grad():\n\u001b[1;32m----> <a href='vscode-notebook-cell:/c%3A/Users/s4692034/Documents/GitHub/TorchIR/MNIST%20Load%20Test.ipynb#X24sZmlsZQ%3D%3D?line=7'>8</a>\u001b[0m     \u001b[39mfor\u001b[39;00m moving \u001b[39min\u001b[39;00m tqdm(ds_test_subset):\n\u001b[0;32m      <a href='vscode-notebook-cell:/c%3A/Users/s4692034/Documents/GitHub/TorchIR/MNIST%20Load%20Test.ipynb#X24sZmlsZQ%3D%3D?line=8'>9</a>\u001b[0m         warped \u001b[39m=\u001b[39m model(fixed[\u001b[39mNone\u001b[39;00m]\u001b[39m.\u001b[39mcuda(), moving[\u001b[39mNone\u001b[39;00m]\u001b[39m.\u001b[39mcuda())\u001b[39m.\u001b[39mdetach()\u001b[39m.\u001b[39msqueeze()\u001b[39m.\u001b[39mcpu()\u001b[39m.\u001b[39mnumpy()\n\u001b[0;32m     <a href='vscode-notebook-cell:/c%3A/Users/s4692034/Documents/GitHub/TorchIR/MNIST%20Load%20Test.ipynb#X24sZmlsZQ%3D%3D?line=9'>10</a>\u001b[0m         avg_moving \u001b[39m+\u001b[39m\u001b[39m=\u001b[39m moving\u001b[39m.\u001b[39msqueeze()\u001b[39m.\u001b[39mcpu()\u001b[39m.\u001b[39mnumpy() \u001b[39m/\u001b[39m \u001b[39mlen\u001b[39m(ds_test_subset)\n",
      "File \u001b[1;32mc:\\Users\\s4692034\\AppData\\Local\\anaconda3\\envs\\cardiac\\lib\\site-packages\\tqdm\\notebook.py:233\u001b[0m, in \u001b[0;36mtqdm_notebook.__init__\u001b[1;34m(self, *args, **kwargs)\u001b[0m\n\u001b[0;32m    231\u001b[0m unit_scale \u001b[39m=\u001b[39m \u001b[39m1\u001b[39m \u001b[39mif\u001b[39;00m \u001b[39mself\u001b[39m\u001b[39m.\u001b[39munit_scale \u001b[39mis\u001b[39;00m \u001b[39mTrue\u001b[39;00m \u001b[39melse\u001b[39;00m \u001b[39mself\u001b[39m\u001b[39m.\u001b[39munit_scale \u001b[39mor\u001b[39;00m \u001b[39m1\u001b[39m\n\u001b[0;32m    232\u001b[0m total \u001b[39m=\u001b[39m \u001b[39mself\u001b[39m\u001b[39m.\u001b[39mtotal \u001b[39m*\u001b[39m unit_scale \u001b[39mif\u001b[39;00m \u001b[39mself\u001b[39m\u001b[39m.\u001b[39mtotal \u001b[39melse\u001b[39;00m \u001b[39mself\u001b[39m\u001b[39m.\u001b[39mtotal\n\u001b[1;32m--> 233\u001b[0m \u001b[39mself\u001b[39m\u001b[39m.\u001b[39mcontainer \u001b[39m=\u001b[39m \u001b[39mself\u001b[39;49m\u001b[39m.\u001b[39;49mstatus_printer(\u001b[39mself\u001b[39;49m\u001b[39m.\u001b[39;49mfp, total, \u001b[39mself\u001b[39;49m\u001b[39m.\u001b[39;49mdesc, \u001b[39mself\u001b[39;49m\u001b[39m.\u001b[39;49mncols)\n\u001b[0;32m    234\u001b[0m \u001b[39mself\u001b[39m\u001b[39m.\u001b[39mcontainer\u001b[39m.\u001b[39mpbar \u001b[39m=\u001b[39m proxy(\u001b[39mself\u001b[39m)\n\u001b[0;32m    235\u001b[0m \u001b[39mself\u001b[39m\u001b[39m.\u001b[39mdisplayed \u001b[39m=\u001b[39m \u001b[39mFalse\u001b[39;00m\n",
      "File \u001b[1;32mc:\\Users\\s4692034\\AppData\\Local\\anaconda3\\envs\\cardiac\\lib\\site-packages\\tqdm\\notebook.py:108\u001b[0m, in \u001b[0;36mtqdm_notebook.status_printer\u001b[1;34m(_, total, desc, ncols)\u001b[0m\n\u001b[0;32m     99\u001b[0m \u001b[39m# Fallback to text bar if there's no total\u001b[39;00m\n\u001b[0;32m    100\u001b[0m \u001b[39m# DEPRECATED: replaced with an 'info' style bar\u001b[39;00m\n\u001b[0;32m    101\u001b[0m \u001b[39m# if not total:\u001b[39;00m\n\u001b[1;32m   (...)\u001b[0m\n\u001b[0;32m    105\u001b[0m \n\u001b[0;32m    106\u001b[0m \u001b[39m# Prepare IPython progress bar\u001b[39;00m\n\u001b[0;32m    107\u001b[0m \u001b[39mif\u001b[39;00m IProgress \u001b[39mis\u001b[39;00m \u001b[39mNone\u001b[39;00m:  \u001b[39m# #187 #451 #558 #872\u001b[39;00m\n\u001b[1;32m--> 108\u001b[0m     \u001b[39mraise\u001b[39;00m \u001b[39mImportError\u001b[39;00m(WARN_NOIPYW)\n\u001b[0;32m    109\u001b[0m \u001b[39mif\u001b[39;00m total:\n\u001b[0;32m    110\u001b[0m     pbar \u001b[39m=\u001b[39m IProgress(\u001b[39mmin\u001b[39m\u001b[39m=\u001b[39m\u001b[39m0\u001b[39m, \u001b[39mmax\u001b[39m\u001b[39m=\u001b[39mtotal)\n",
      "\u001b[1;31mImportError\u001b[0m: IProgress not found. Please update jupyter and ipywidgets. See https://ipywidgets.readthedocs.io/en/stable/user_install.html"
     ]
    }
   ],
   "source": [
    "model1 = LitDIRNet()\n",
    "trainer = pl.Trainer(default_root_dir=DEST_DIR, \n",
    "                     log_every_n_steps=50,\n",
    "                     val_check_interval=50, \n",
    "                     max_epochs=100,\n",
    "                     devices=1)\n",
    "trainer.fit(model1, train_loader, val_loader)\n",
    "\n",
    "trainer.save_checkpoint(DEST_DIR / 'mnist_ir_8.ckpt')\n",
    "torch.save(model1.state_dict(), DEST_DIR / 'mnist_dlir_8.pt')"
   ]
  },
  {
   "cell_type": "code",
   "execution_count": 19,
   "metadata": {},
   "outputs": [
    {
     "name": "stderr",
     "output_type": "stream",
     "text": [
      "\n",
      "\n",
      "\n",
      "\n",
      "\u001b[A\u001b[A\u001b[A\u001b[A\n",
      "\n",
      "\n",
      "\n",
      "\u001b[A\u001b[A\u001b[A\u001b[A\n",
      "\n",
      "\n",
      "\n",
      "\u001b[A\u001b[A\u001b[A\u001b[A\n",
      "\n",
      "\n",
      "\n",
      "\u001b[A\u001b[A\u001b[A\u001b[A\n",
      "\n",
      "\n",
      "\n",
      "\u001b[A\u001b[A\u001b[A\u001b[A\n",
      "\n",
      "\n",
      "\n",
      "\u001b[A\u001b[A\u001b[A\u001b[A\n",
      "\n",
      "\n",
      "\n",
      "\u001b[A\u001b[A\u001b[A\u001b[A\n",
      "\n",
      "\n",
      "\n",
      "\u001b[A\u001b[A\u001b[A\u001b[A\n",
      "\n",
      "\n",
      "\n",
      "\u001b[A\u001b[A\u001b[A\u001b[A\n",
      "\n",
      "\n",
      "\n",
      "\u001b[A\u001b[A\u001b[A\u001b[A\n",
      "\n",
      "\n",
      "\n",
      "\u001b[A\u001b[A\u001b[A\u001b[A\n",
      "\n",
      "\n",
      "\n",
      "\u001b[A\u001b[A\u001b[A\u001b[A\n",
      "\n",
      "\n",
      "\n",
      "\u001b[A\u001b[A\u001b[A\u001b[A\n",
      "\n",
      "\n",
      "\n",
      "\u001b[A\u001b[A\u001b[A\u001b[A\n",
      "\n",
      "\n",
      "\n",
      "\u001b[A\u001b[A\u001b[A\u001b[A\n",
      "\n",
      "\n",
      "\n",
      "\u001b[A\u001b[A\u001b[A\u001b[A\n",
      "\n",
      "\n",
      "\n",
      "\u001b[A\u001b[A\u001b[A\u001b[A\n",
      "\n",
      "\n",
      "\n",
      "\u001b[A\u001b[A\u001b[A\u001b[A\n",
      "\n",
      "\n",
      "\n",
      "\u001b[A\u001b[A\u001b[A\u001b[A\n",
      "\n",
      "\n",
      "\n",
      "\u001b[A\u001b[A\u001b[A\u001b[A\n",
      "\n",
      "\n",
      "\n",
      "\u001b[A\u001b[A\u001b[A\u001b[A\n",
      "\n",
      "\n",
      "\n",
      "\u001b[A\u001b[A\u001b[A\u001b[A\n",
      "\n",
      "\n",
      "\n",
      "\u001b[A\u001b[A\u001b[A\u001b[A\n",
      "\n",
      "\n",
      "\n",
      "\u001b[A\u001b[A\u001b[A\u001b[A\n",
      "\n",
      "\n",
      "\n",
      "\u001b[A\u001b[A\u001b[A\u001b[A\n",
      "\n",
      "\n",
      "\n",
      "\u001b[A\u001b[A\u001b[A\u001b[A\n",
      "\n",
      "\n",
      "\n",
      "100%|██████████| 1009/1009 [00:02<00:00, 355.40it/s]\n",
      "Exception ignored in: <function tqdm.__del__ at 0x00000184083DD3F0>\n",
      "Traceback (most recent call last):\n",
      "  File \"c:\\Users\\s4692034\\AppData\\Local\\anaconda3\\envs\\cardiac\\lib\\site-packages\\tqdm\\std.py\", line 1149, in __del__\n",
      "    self.close()\n",
      "  File \"c:\\Users\\s4692034\\AppData\\Local\\anaconda3\\envs\\cardiac\\lib\\site-packages\\tqdm\\notebook.py\", line 278, in close\n",
      "    self.disp(bar_style='danger', check_delay=False)\n",
      "AttributeError: 'tqdm_notebook' object has no attribute 'disp'\n"
     ]
    },
    {
     "data": {
      "image/png": "[encoded data removed]",
      "text/plain": [
       "<Figure size 1000x350 with 3 Axes>"
      ]
     },
     "metadata": {},
     "output_type": "display_data"
    }
   ],
   "source": [
    "visualize(model1)"
   ]
  },
  {
   "cell_type": "code",
   "execution_count": 20,
   "metadata": {},
   "outputs": [
    {
     "name": "stderr",
     "output_type": "stream",
     "text": [
      "\n",
      "\n",
      "\u001b[A\u001b[A\n",
      "\n",
      "\u001b[A\u001b[A\n",
      "\n",
      "\u001b[A\u001b[A\n",
      "\n",
      "\u001b[A\u001b[A\n",
      "\n",
      "\u001b[A\u001b[A\n",
      "\n",
      "\u001b[A\u001b[A\n",
      "\n",
      "\u001b[A\u001b[A\n",
      "\n",
      "\u001b[A\u001b[A\n",
      "\n",
      "\u001b[A\u001b[A\n",
      "\n",
      "\u001b[A\u001b[A\n",
      "\n",
      "\u001b[A\u001b[A\n",
      "\n",
      "\u001b[A\u001b[A\n",
      "\n",
      "\u001b[A\u001b[A\n",
      "\n",
      "\u001b[A\u001b[A\n",
      "\n",
      "\u001b[A\u001b[A\n",
      "\n",
      "\u001b[A\u001b[A\n",
      "\n",
      "\u001b[A\u001b[A\n",
      "\n",
      "\u001b[A\u001b[A\n",
      "\n",
      "\u001b[A\u001b[A\n",
      "\n",
      "\u001b[A\u001b[A\n",
      "\n",
      "\u001b[A\u001b[A\n",
      "\n",
      "\u001b[A\u001b[A\n",
      "\n",
      "\u001b[A\u001b[A\n",
      "\n",
      "100%|██████████| 1009/1009 [00:02<00:00, 394.34it/s]\n"
     ]
    },
    {
     "data": {
      "image/png": "[encoded data removed]",
      "text/plain": [
       "<Figure size 1000x350 with 3 Axes>"
      ]
     },
     "metadata": {},
     "output_type": "display_data"
    }
   ],
   "source": [
    "# 看看这俩是不是一样的\n",
    "model2 = LitDIRNet.load_from_checkpoint(DEST_DIR / 'mnist_ir_8.ckpt')\n",
    "visualize(model2)"
   ]
  },
  {
   "cell_type": "code",
   "execution_count": 21,
   "metadata": {},
   "outputs": [
    {
     "name": "stderr",
     "output_type": "stream",
     "text": [
      "\n",
      "\n",
      "\u001b[A\u001b[A\n",
      "\n",
      "\u001b[A\u001b[A\n",
      "\n",
      "\u001b[A\u001b[A\n",
      "\n",
      "\u001b[A\u001b[A\n",
      "\n",
      "\u001b[A\u001b[A\n",
      "\n",
      "\u001b[A\u001b[A\n",
      "\n",
      "\u001b[A\u001b[A\n",
      "\n",
      "\u001b[A\u001b[A\n",
      "\n",
      "\u001b[A\u001b[A\n",
      "\n",
      "\u001b[A\u001b[A\n",
      "\n",
      "\u001b[A\u001b[A\n",
      "\n",
      "\u001b[A\u001b[A\n",
      "\n",
      "\u001b[A\u001b[A\n",
      "\n",
      "\u001b[A\u001b[A\n",
      "\n",
      "\u001b[A\u001b[A\n",
      "\n",
      "\u001b[A\u001b[A\n",
      "\n",
      "\u001b[A\u001b[A\n",
      "\n",
      "\u001b[A\u001b[A\n",
      "\n",
      "\u001b[A\u001b[A\n",
      "\n",
      "\u001b[A\u001b[A\n",
      "\n",
      "\u001b[A\u001b[A\n",
      "\n",
      "\u001b[A\u001b[A\n",
      "\n",
      "\u001b[A\u001b[A\n",
      "\n",
      "100%|██████████| 1009/1009 [00:02<00:00, 390.81it/s]\n"
     ]
    },
    {
     "data": {
      "image/png": "[encoded data removed]",
      "text/plain": [
       "<Figure size 1000x350 with 3 Axes>"
      ]
     },
     "metadata": {},
     "output_type": "display_data"
    }
   ],
   "source": [
    "model3 = LitDIRNet()\n",
    "model3.load_state_dict(torch.load(DEST_DIR / 'mnist_dlir_8.pt'))\n",
    "visualize(model3)"
   ]
  },
  {
   "cell_type": "code",
   "execution_count": 22,
   "metadata": {},
   "outputs": [
    {
     "name": "stderr",
     "output_type": "stream",
     "text": [
      "\n",
      "\n",
      "\u001b[A\u001b[A\n",
      "\n",
      "\u001b[A\u001b[A\n",
      "\n",
      "\u001b[A\u001b[A\n",
      "\n",
      "\u001b[A\u001b[A\n",
      "\n",
      "\u001b[A\u001b[A\n",
      "\n",
      "\u001b[A\u001b[A\n",
      "\n",
      "\u001b[A\u001b[A\n",
      "\n",
      "\u001b[A\u001b[A\n",
      "\n",
      "\u001b[A\u001b[A\n",
      "\n",
      "\u001b[A\u001b[A\n",
      "\n",
      "\u001b[A\u001b[A\n",
      "\n",
      "\u001b[A\u001b[A\n",
      "\n",
      "\u001b[A\u001b[A\n",
      "\n",
      "\u001b[A\u001b[A\n",
      "\n",
      "\u001b[A\u001b[A\n",
      "\n",
      "\u001b[A\u001b[A\n",
      "\n",
      "\u001b[A\u001b[A\n",
      "\n",
      "\u001b[A\u001b[A\n",
      "\n",
      "\u001b[A\u001b[A\n",
      "\n",
      "\u001b[A\u001b[A\n",
      "\n",
      "\u001b[A\u001b[A\n",
      "\n",
      "\u001b[A\u001b[A\n",
      "\n",
      "\u001b[A\u001b[A\n",
      "\n",
      "\u001b[A\u001b[A\n",
      "\n",
      "100%|██████████| 1009/1009 [00:02<00:00, 392.01it/s]\n"
     ]
    },
    {
     "data": {
      "image/png": "[encoded data removed]",
      "text/plain": [
       "<Figure size 1000x350 with 3 Axes>"
      ]
     },
     "metadata": {},
     "output_type": "display_data"
    }
   ],
   "source": [
    "model4 = LitDIRNet.load_from_checkpoint(\"C:\\\\Users\\\\s4692034\\\\Documents\\\\GitHub\\\\TorchIR\\\\MNIST_output\\\\lightning_logs\\\\version_3\\\\checkpoints\\\\epoch=99-step=10000.ckpt\")\n",
    "visualize(model4)"
   ]
  },
  {
   "cell_type": "markdown",
   "metadata": {},
   "source": [
    "## 接着试试两个stage组合要怎么才能load参数"
   ]
  },
  {
   "cell_type": "code",
   "execution_count": 23,
   "metadata": {},
   "outputs": [],
   "source": [
    "class LitDLIRFramework(pl.LightningModule):\n",
    "    def __init__(self, only_last_trainable=True):\n",
    "        super().__init__()\n",
    "        self.dlir_framework = DLIRFramework(only_last_trainable=only_last_trainable)\n",
    "        self.add_stage = self.dlir_framework.add_stage\n",
    "        self.metric = NCC()\n",
    "    \n",
    "    def configure_optimizers(self):\n",
    "        lr = 0.001\n",
    "        weight_decay = 0\n",
    "        optimizer = torch.optim.Adam(self.dlir_framework.parameters(), lr=lr, weight_decay=weight_decay, amsgrad=True)\n",
    "        return {'optimizer': optimizer}\n",
    "\n",
    "    def forward(self, fixed, moving):\n",
    "        warped = self.dlir_framework(fixed, moving)\n",
    "        return warped\n",
    "    \n",
    "    def training_step(self, batch, batch_idx):\n",
    "        warped = self(batch['fixed'], batch['moving'])\n",
    "        loss = self.metric(batch['fixed'], warped)\n",
    "        self.log('NCC/training', loss)\n",
    "        return loss\n",
    "    \n",
    "    def validation_step(self, batch, batch_idx):\n",
    "        warped = self(batch['fixed'], batch['moving'])\n",
    "        loss = self.metric(batch['fixed'], warped)\n",
    "        self.log('NCC/validation', loss)\n",
    "        return loss  "
   ]
  },
  {
   "cell_type": "markdown",
   "metadata": {},
   "source": [
    "Add a BSpline layer with an 8x8 grid:"
   ]
  },
  {
   "cell_type": "code",
   "execution_count": 24,
   "metadata": {},
   "outputs": [
    {
     "name": "stderr",
     "output_type": "stream",
     "text": [
      "GPU available: True (cuda), used: True\n",
      "TPU available: False, using: 0 TPU cores\n",
      "IPU available: False, using: 0 IPUs\n",
      "HPU available: False, using: 0 HPUs\n",
      "LOCAL_RANK: 0 - CUDA_VISIBLE_DEVICES: [0,1]\n",
      "\n",
      "  | Name           | Type          | Params\n",
      "-------------------------------------------------\n",
      "0 | dlir_framework | DLIRFramework | 11.2 K\n",
      "1 | metric         | NCC           | 0     \n",
      "-------------------------------------------------\n",
      "10.2 K    Trainable params\n",
      "1.0 K     Non-trainable params\n",
      "11.2 K    Total params\n",
      "0.045     Total estimated model params size (MB)\n"
     ]
    },
    {
     "name": "stdout",
     "output_type": "stream",
     "text": [
      "                                                                           "
     ]
    },
    {
     "name": "stderr",
     "output_type": "stream",
     "text": [
      "c:\\Users\\s4692034\\AppData\\Local\\anaconda3\\envs\\cardiac\\lib\\site-packages\\pytorch_lightning\\trainer\\connectors\\data_connector.py:442: PossibleUserWarning: The dataloader, val_dataloader, does not have many workers which may be a bottleneck. Consider increasing the value of the `num_workers` argument` (try 24 which is the number of cpus on this machine) in the `DataLoader` init to improve performance.\n",
      "  rank_zero_warn(\n",
      "c:\\Users\\s4692034\\AppData\\Local\\anaconda3\\envs\\cardiac\\lib\\site-packages\\pytorch_lightning\\trainer\\connectors\\data_connector.py:442: PossibleUserWarning: The dataloader, train_dataloader, does not have many workers which may be a bottleneck. Consider increasing the value of the `num_workers` argument` (try 24 which is the number of cpus on this machine) in the `DataLoader` init to improve performance.\n",
      "  rank_zero_warn(\n"
     ]
    },
    {
     "name": "stdout",
     "output_type": "stream",
     "text": [
      "Epoch 99: 100%|██████████| 100/100 [00:02<00:00, 37.78it/s, v_num=4]"
     ]
    },
    {
     "name": "stderr",
     "output_type": "stream",
     "text": [
      "`Trainer.fit` stopped: `max_epochs=100` reached.\n"
     ]
    },
    {
     "name": "stdout",
     "output_type": "stream",
     "text": [
      "Epoch 99: 100%|██████████| 100/100 [00:02<00:00, 37.74it/s, v_num=4]\n"
     ]
    }
   ],
   "source": [
    "model5 = LitDLIRFramework()\n",
    "model5.add_stage(network=DIRNet(grid_spacing=(8, 8), kernels=16, num_conv_layers=5, num_dense_layers=2),\n",
    "                transformer=BsplineTransformer(ndim=2, upsampling_factors=(8, 8)))\n",
    "trainer = pl.Trainer(default_root_dir=DEST_DIR,\n",
    "                     log_every_n_steps=50,\n",
    "                     val_check_interval=50,\n",
    "                     max_epochs=100,\n",
    "                     devices=1)\n",
    "trainer.fit(model5, train_loader, val_loader)"
   ]
  },
  {
   "cell_type": "markdown",
   "metadata": {},
   "source": [
    "Add a finer 4x4 grid and train. The model, now augmented with the BSpline layer, is trained again on the same datasets."
   ]
  },
  {
   "cell_type": "code",
   "execution_count": 26,
   "metadata": {},
   "outputs": [
    {
     "name": "stderr",
     "output_type": "stream",
     "text": [
      "GPU available: True (cuda), used: True\n",
      "TPU available: False, using: 0 TPU cores\n",
      "IPU available: False, using: 0 IPUs\n",
      "HPU available: False, using: 0 HPUs\n",
      "LOCAL_RANK: 0 - CUDA_VISIBLE_DEVICES: [0,1]\n",
      "\n",
      "  | Name           | Type          | Params\n",
      "-------------------------------------------------\n",
      "0 | dlir_framework | DLIRFramework | 32.0 K\n",
      "1 | metric         | NCC           | 0     \n",
      "-------------------------------------------------\n",
      "10.2 K    Trainable params\n",
      "21.9 K    Non-trainable params\n",
      "32.0 K    Total params\n",
      "0.128     Total estimated model params size (MB)\n"
     ]
    },
    {
     "name": "stdout",
     "output_type": "stream",
     "text": [
      "Epoch 59: 100%|██████████| 100/100 [00:03<00:00, 27.47it/s, v_num=5]       "
     ]
    },
    {
     "name": "stderr",
     "output_type": "stream",
     "text": [
      "Exception ignored in: <function tqdm.__del__ at 0x00000184083DD3F0>\n",
      "Traceback (most recent call last):\n",
      "  File \"c:\\Users\\s4692034\\AppData\\Local\\anaconda3\\envs\\cardiac\\lib\\site-packages\\tqdm\\std.py\", line 1149, in __del__\n",
      "    self.close()\n",
      "  File \"c:\\Users\\s4692034\\AppData\\Local\\anaconda3\\envs\\cardiac\\lib\\site-packages\\tqdm\\notebook.py\", line 278, in close\n",
      "    self.disp(bar_style='danger', check_delay=False)\n",
      "AttributeError: 'tqdm_notebook' object has no attribute 'disp'\n",
      "Exception ignored in: <function tqdm.__del__ at 0x00000184083DD3F0>\n",
      "Traceback (most recent call last):\n",
      "  File \"c:\\Users\\s4692034\\AppData\\Local\\anaconda3\\envs\\cardiac\\lib\\site-packages\\tqdm\\std.py\", line 1149, in __del__\n",
      "    self.close()\n",
      "  File \"c:\\Users\\s4692034\\AppData\\Local\\anaconda3\\envs\\cardiac\\lib\\site-packages\\tqdm\\notebook.py\", line 278, in close\n",
      "    self.disp(bar_style='danger', check_delay=False)\n",
      "AttributeError: 'tqdm_notebook' object has no attribute 'disp'\n",
      "Exception ignored in: <function tqdm.__del__ at 0x00000184083DD3F0>\n",
      "Traceback (most recent call last):\n",
      "  File \"c:\\Users\\s4692034\\AppData\\Local\\anaconda3\\envs\\cardiac\\lib\\site-packages\\tqdm\\std.py\", line 1149, in __del__\n",
      "    self.close()\n",
      "  File \"c:\\Users\\s4692034\\AppData\\Local\\anaconda3\\envs\\cardiac\\lib\\site-packages\\tqdm\\notebook.py\", line 278, in close\n",
      "    self.disp(bar_style='danger', check_delay=False)\n",
      "AttributeError: 'tqdm_notebook' object has no attribute 'disp'\n",
      "Exception ignored in: <function tqdm.__del__ at 0x00000184083DD3F0>\n",
      "Traceback (most recent call last):\n",
      "  File \"c:\\Users\\s4692034\\AppData\\Local\\anaconda3\\envs\\cardiac\\lib\\site-packages\\tqdm\\std.py\", line 1149, in __del__\n",
      "    self.close()\n",
      "  File \"c:\\Users\\s4692034\\AppData\\Local\\anaconda3\\envs\\cardiac\\lib\\site-packages\\tqdm\\notebook.py\", line 278, in close\n",
      "    self.disp(bar_style='danger', check_delay=False)\n",
      "AttributeError: 'tqdm_notebook' object has no attribute 'disp'\n"
     ]
    },
    {
     "name": "stdout",
     "output_type": "stream",
     "text": [
      "Epoch 99: 100%|██████████| 100/100 [00:04<00:00, 24.84it/s, v_num=5]"
     ]
    },
    {
     "name": "stderr",
     "output_type": "stream",
     "text": [
      "`Trainer.fit` stopped: `max_epochs=100` reached.\n"
     ]
    },
    {
     "name": "stdout",
     "output_type": "stream",
     "text": [
      "Epoch 99: 100%|██████████| 100/100 [00:04<00:00, 24.82it/s, v_num=5]\n"
     ]
    }
   ],
   "source": [
    "model5.add_stage(network=DIRNet(grid_spacing=(4, 4), kernels=16, num_conv_layers=5, num_dense_layers=2),\n",
    "                transformer=BsplineTransformer(ndim=2, upsampling_factors=(4, 4)))\n",
    "trainer = pl.Trainer(default_root_dir=DEST_DIR,\n",
    "                     log_every_n_steps=50,\n",
    "                     val_check_interval=50,\n",
    "                     max_epochs=100,\n",
    "                     devices=1)\n",
    "trainer.fit(model5, train_loader, val_loader)"
   ]
  },
  {
   "cell_type": "markdown",
   "metadata": {},
   "source": [
    "Let's store the checkpoint"
   ]
  },
  {
   "cell_type": "code",
   "execution_count": 27,
   "metadata": {},
   "outputs": [
    {
     "name": "stderr",
     "output_type": "stream",
     "text": [
      "100%|██████████| 1009/1009 [00:05<00:00, 186.31it/s]\n"
     ]
    },
    {
     "data": {
      "image/png": "[encoded data removed]",
      "text/plain": [
       "<Figure size 1000x350 with 3 Axes>"
      ]
     },
     "metadata": {},
     "output_type": "display_data"
    }
   ],
   "source": [
    "trainer.save_checkpoint(DEST_DIR / 'mnist_dlir_8_4.ckpt')\n",
    "torch.save(model5.state_dict(), DEST_DIR / 'mnist_dlir_8_4.pt')  # model7\n",
    "visualize(model5)"
   ]
  },
  {
   "cell_type": "code",
   "execution_count": 29,
   "metadata": {},
   "outputs": [
    {
     "ename": "RuntimeError",
     "evalue": "Error(s) in loading state_dict for LitDLIRFramework:\n\tUnexpected key(s) in state_dict: \"dlir_framework.stages.0.network.conv_layers.0.conv.weight\", \"dlir_framework.stages.0.network.conv_layers.0.conv.bias\", \"dlir_framework.stages.0.network.conv_layers.1.conv.weight\", \"dlir_framework.stages.0.network.conv_layers.1.conv.bias\", \"dlir_framework.stages.0.network.conv_layers.2.conv.weight\", \"dlir_framework.stages.0.network.conv_layers.2.conv.bias\", \"dlir_framework.stages.0.network.conv_layers.3.conv.weight\", \"dlir_framework.stages.0.network.conv_layers.3.conv.bias\", \"dlir_framework.stages.0.network.conv_layers.4.conv.weight\", \"dlir_framework.stages.0.network.conv_layers.4.conv.bias\", \"dlir_framework.stages.0.network.dense_layers.0.conv.weight\", \"dlir_framework.stages.0.network.dense_layers.0.conv.bias\", \"dlir_framework.stages.0.network.dense_layers.1.conv.weight\", \"dlir_framework.stages.0.network.dense_layers.1.conv.bias\", \"dlir_framework.stages.0.network.dense_layers.2.conv.weight\", \"dlir_framework.stages.0.network.dense_layers.2.conv.bias\", \"dlir_framework.stages.0.transformer._upsampler.weight\", \"dlir_framework.stages.1.network.conv_layers.0.conv.weight\", \"dlir_framework.stages.1.network.conv_layers.0.conv.bias\", \"dlir_framework.stages.1.network.conv_layers.1.conv.weight\", \"dlir_framework.stages.1.network.conv_layers.1.conv.bias\", \"dlir_framework.stages.1.network.conv_layers.2.conv.weight\", \"dlir_framework.stages.1.network.conv_layers.2.conv.bias\", \"dlir_framework.stages.1.network.conv_layers.3.conv.weight\", \"dlir_framework.stages.1.network.conv_layers.3.conv.bias\", \"dlir_framework.stages.1.network.conv_layers.4.conv.weight\", \"dlir_framework.stages.1.network.conv_layers.4.conv.bias\", \"dlir_framework.stages.1.network.dense_layers.0.conv.weight\", \"dlir_framework.stages.1.network.dense_layers.0.conv.bias\", \"dlir_framework.stages.1.network.dense_layers.1.conv.weight\", \"dlir_framework.stages.1.network.dense_layers.1.conv.bias\", \"dlir_framework.stages.1.network.dense_layers.2.conv.weight\", \"dlir_framework.stages.1.network.dense_layers.2.conv.bias\", \"dlir_framework.stages.1.transformer._upsampler.weight\", \"dlir_framework.stages.2.network.conv_layers.0.conv.weight\", \"dlir_framework.stages.2.network.conv_layers.0.conv.bias\", \"dlir_framework.stages.2.network.conv_layers.1.conv.weight\", \"dlir_framework.stages.2.network.conv_layers.1.conv.bias\", \"dlir_framework.stages.2.network.conv_layers.2.conv.weight\", \"dlir_framework.stages.2.network.conv_layers.2.conv.bias\", \"dlir_framework.stages.2.network.conv_layers.3.conv.weight\", \"dlir_framework.stages.2.network.conv_layers.3.conv.bias\", \"dlir_framework.stages.2.network.conv_layers.4.conv.weight\", \"dlir_framework.stages.2.network.conv_layers.4.conv.bias\", \"dlir_framework.stages.2.network.dense_layers.0.conv.weight\", \"dlir_framework.stages.2.network.dense_layers.0.conv.bias\", \"dlir_framework.stages.2.network.dense_layers.1.conv.weight\", \"dlir_framework.stages.2.network.dense_layers.1.conv.bias\", \"dlir_framework.stages.2.network.dense_layers.2.conv.weight\", \"dlir_framework.stages.2.network.dense_layers.2.conv.bias\", \"dlir_framework.stages.2.transformer._upsampler.weight\". ",
     "output_type": "error",
     "traceback": [
      "\u001b[1;31m---------------------------------------------------------------------------\u001b[0m",
      "\u001b[1;31mRuntimeError\u001b[0m                              Traceback (most recent call last)",
      "\u001b[1;32mc:\\Users\\s4692034\\Documents\\GitHub\\TorchIR\\MNIST Load Test.ipynb Cell 32\u001b[0m line \u001b[0;36m6\n\u001b[0;32m      <a href='vscode-notebook-cell:/c%3A/Users/s4692034/Documents/GitHub/TorchIR/MNIST%20Load%20Test.ipynb#X41sZmlsZQ%3D%3D?line=1'>2</a>\u001b[0m model6\u001b[39m.\u001b[39madd_stage(network\u001b[39m=\u001b[39mDIRNet(grid_spacing\u001b[39m=\u001b[39m(\u001b[39m4\u001b[39m, \u001b[39m4\u001b[39m), kernels\u001b[39m=\u001b[39m\u001b[39m16\u001b[39m, num_conv_layers\u001b[39m=\u001b[39m\u001b[39m5\u001b[39m, num_dense_layers\u001b[39m=\u001b[39m\u001b[39m2\u001b[39m),\n\u001b[0;32m      <a href='vscode-notebook-cell:/c%3A/Users/s4692034/Documents/GitHub/TorchIR/MNIST%20Load%20Test.ipynb#X41sZmlsZQ%3D%3D?line=2'>3</a>\u001b[0m                 transformer\u001b[39m=\u001b[39mBsplineTransformer(ndim\u001b[39m=\u001b[39m\u001b[39m2\u001b[39m, upsampling_factors\u001b[39m=\u001b[39m(\u001b[39m4\u001b[39m, \u001b[39m4\u001b[39m)))\n\u001b[0;32m      <a href='vscode-notebook-cell:/c%3A/Users/s4692034/Documents/GitHub/TorchIR/MNIST%20Load%20Test.ipynb#X41sZmlsZQ%3D%3D?line=3'>4</a>\u001b[0m model6\u001b[39m.\u001b[39madd_stage(network\u001b[39m=\u001b[39mDIRNet(grid_spacing\u001b[39m=\u001b[39m(\u001b[39m4\u001b[39m, \u001b[39m4\u001b[39m), kernels\u001b[39m=\u001b[39m\u001b[39m16\u001b[39m, num_conv_layers\u001b[39m=\u001b[39m\u001b[39m5\u001b[39m, num_dense_layers\u001b[39m=\u001b[39m\u001b[39m2\u001b[39m),\n\u001b[0;32m      <a href='vscode-notebook-cell:/c%3A/Users/s4692034/Documents/GitHub/TorchIR/MNIST%20Load%20Test.ipynb#X41sZmlsZQ%3D%3D?line=4'>5</a>\u001b[0m                 transformer\u001b[39m=\u001b[39mBsplineTransformer(ndim\u001b[39m=\u001b[39m\u001b[39m2\u001b[39m, upsampling_factors\u001b[39m=\u001b[39m(\u001b[39m4\u001b[39m, \u001b[39m4\u001b[39m)))\n\u001b[1;32m----> <a href='vscode-notebook-cell:/c%3A/Users/s4692034/Documents/GitHub/TorchIR/MNIST%20Load%20Test.ipynb#X41sZmlsZQ%3D%3D?line=5'>6</a>\u001b[0m model6\u001b[39m.\u001b[39;49mload_from_checkpoint(DEST_DIR \u001b[39m/\u001b[39;49m \u001b[39m'\u001b[39;49m\u001b[39mmnist_dlir_8_4.ckpt\u001b[39;49m\u001b[39m'\u001b[39;49m)\n\u001b[0;32m      <a href='vscode-notebook-cell:/c%3A/Users/s4692034/Documents/GitHub/TorchIR/MNIST%20Load%20Test.ipynb#X41sZmlsZQ%3D%3D?line=7'>8</a>\u001b[0m visualize(model6)\n",
      "File \u001b[1;32mc:\\Users\\s4692034\\AppData\\Local\\anaconda3\\envs\\cardiac\\lib\\site-packages\\pytorch_lightning\\core\\module.py:1543\u001b[0m, in \u001b[0;36mLightningModule.load_from_checkpoint\u001b[1;34m(cls, checkpoint_path, map_location, hparams_file, strict, **kwargs)\u001b[0m\n\u001b[0;32m   1463\u001b[0m \u001b[39m@classmethod\u001b[39m\n\u001b[0;32m   1464\u001b[0m \u001b[39mdef\u001b[39;00m \u001b[39mload_from_checkpoint\u001b[39m(\n\u001b[0;32m   1465\u001b[0m     \u001b[39mcls\u001b[39m,\n\u001b[1;32m   (...)\u001b[0m\n\u001b[0;32m   1470\u001b[0m     \u001b[39m*\u001b[39m\u001b[39m*\u001b[39mkwargs: Any,\n\u001b[0;32m   1471\u001b[0m ) \u001b[39m-\u001b[39m\u001b[39m>\u001b[39m Self:\n\u001b[0;32m   1472\u001b[0m \u001b[39m    \u001b[39m\u001b[39mr\u001b[39m\u001b[39m\"\"\"\u001b[39;00m\n\u001b[0;32m   1473\u001b[0m \u001b[39m    Primary way of loading a model from a checkpoint. When Lightning saves a checkpoint\u001b[39;00m\n\u001b[0;32m   1474\u001b[0m \u001b[39m    it stores the arguments passed to ``__init__``  in the checkpoint under ``\"hyper_parameters\"``.\u001b[39;00m\n\u001b[1;32m   (...)\u001b[0m\n\u001b[0;32m   1541\u001b[0m \u001b[39m        y_hat = pretrained_model(x)\u001b[39;00m\n\u001b[0;32m   1542\u001b[0m \u001b[39m    \"\"\"\u001b[39;00m\n\u001b[1;32m-> 1543\u001b[0m     loaded \u001b[39m=\u001b[39m _load_from_checkpoint(\n\u001b[0;32m   1544\u001b[0m         \u001b[39mcls\u001b[39m,\n\u001b[0;32m   1545\u001b[0m         checkpoint_path,\n\u001b[0;32m   1546\u001b[0m         map_location,\n\u001b[0;32m   1547\u001b[0m         hparams_file,\n\u001b[0;32m   1548\u001b[0m         strict,\n\u001b[0;32m   1549\u001b[0m         \u001b[39m*\u001b[39m\u001b[39m*\u001b[39mkwargs,\n\u001b[0;32m   1550\u001b[0m     )\n\u001b[0;32m   1551\u001b[0m     \u001b[39mreturn\u001b[39;00m cast(Self, loaded)\n",
      "File \u001b[1;32mc:\\Users\\s4692034\\AppData\\Local\\anaconda3\\envs\\cardiac\\lib\\site-packages\\pytorch_lightning\\core\\saving.py:91\u001b[0m, in \u001b[0;36m_load_from_checkpoint\u001b[1;34m(cls, checkpoint_path, map_location, hparams_file, strict, **kwargs)\u001b[0m\n\u001b[0;32m     89\u001b[0m     \u001b[39mreturn\u001b[39;00m _load_state(\u001b[39mcls\u001b[39m, checkpoint, \u001b[39m*\u001b[39m\u001b[39m*\u001b[39mkwargs)\n\u001b[0;32m     90\u001b[0m \u001b[39mif\u001b[39;00m \u001b[39missubclass\u001b[39m(\u001b[39mcls\u001b[39m, pl\u001b[39m.\u001b[39mLightningModule):\n\u001b[1;32m---> 91\u001b[0m     model \u001b[39m=\u001b[39m _load_state(\u001b[39mcls\u001b[39m, checkpoint, strict\u001b[39m=\u001b[39mstrict, \u001b[39m*\u001b[39m\u001b[39m*\u001b[39mkwargs)\n\u001b[0;32m     92\u001b[0m     state_dict \u001b[39m=\u001b[39m checkpoint[\u001b[39m\"\u001b[39m\u001b[39mstate_dict\u001b[39m\u001b[39m\"\u001b[39m]\n\u001b[0;32m     93\u001b[0m     \u001b[39mif\u001b[39;00m \u001b[39mnot\u001b[39;00m state_dict:\n",
      "File \u001b[1;32mc:\\Users\\s4692034\\AppData\\Local\\anaconda3\\envs\\cardiac\\lib\\site-packages\\pytorch_lightning\\core\\saving.py:157\u001b[0m, in \u001b[0;36m_load_state\u001b[1;34m(cls, checkpoint, strict, **cls_kwargs_new)\u001b[0m\n\u001b[0;32m    155\u001b[0m \u001b[39m# load the state_dict on the model automatically\u001b[39;00m\n\u001b[0;32m    156\u001b[0m \u001b[39massert\u001b[39;00m strict \u001b[39mis\u001b[39;00m \u001b[39mnot\u001b[39;00m \u001b[39mNone\u001b[39;00m\n\u001b[1;32m--> 157\u001b[0m keys \u001b[39m=\u001b[39m obj\u001b[39m.\u001b[39;49mload_state_dict(checkpoint[\u001b[39m\"\u001b[39;49m\u001b[39mstate_dict\u001b[39;49m\u001b[39m\"\u001b[39;49m], strict\u001b[39m=\u001b[39;49mstrict)\n\u001b[0;32m    159\u001b[0m \u001b[39mif\u001b[39;00m \u001b[39mnot\u001b[39;00m strict:\n\u001b[0;32m    160\u001b[0m     \u001b[39mif\u001b[39;00m keys\u001b[39m.\u001b[39mmissing_keys:\n",
      "File \u001b[1;32mc:\\Users\\s4692034\\AppData\\Local\\anaconda3\\envs\\cardiac\\lib\\site-packages\\torch\\nn\\modules\\module.py:2041\u001b[0m, in \u001b[0;36mModule.load_state_dict\u001b[1;34m(self, state_dict, strict)\u001b[0m\n\u001b[0;32m   2036\u001b[0m         error_msgs\u001b[39m.\u001b[39minsert(\n\u001b[0;32m   2037\u001b[0m             \u001b[39m0\u001b[39m, \u001b[39m'\u001b[39m\u001b[39mMissing key(s) in state_dict: \u001b[39m\u001b[39m{}\u001b[39;00m\u001b[39m. \u001b[39m\u001b[39m'\u001b[39m\u001b[39m.\u001b[39mformat(\n\u001b[0;32m   2038\u001b[0m                 \u001b[39m'\u001b[39m\u001b[39m, \u001b[39m\u001b[39m'\u001b[39m\u001b[39m.\u001b[39mjoin(\u001b[39m'\u001b[39m\u001b[39m\"\u001b[39m\u001b[39m{}\u001b[39;00m\u001b[39m\"\u001b[39m\u001b[39m'\u001b[39m\u001b[39m.\u001b[39mformat(k) \u001b[39mfor\u001b[39;00m k \u001b[39min\u001b[39;00m missing_keys)))\n\u001b[0;32m   2040\u001b[0m \u001b[39mif\u001b[39;00m \u001b[39mlen\u001b[39m(error_msgs) \u001b[39m>\u001b[39m \u001b[39m0\u001b[39m:\n\u001b[1;32m-> 2041\u001b[0m     \u001b[39mraise\u001b[39;00m \u001b[39mRuntimeError\u001b[39;00m(\u001b[39m'\u001b[39m\u001b[39mError(s) in loading state_dict for \u001b[39m\u001b[39m{}\u001b[39;00m\u001b[39m:\u001b[39m\u001b[39m\\n\u001b[39;00m\u001b[39m\\t\u001b[39;00m\u001b[39m{}\u001b[39;00m\u001b[39m'\u001b[39m\u001b[39m.\u001b[39mformat(\n\u001b[0;32m   2042\u001b[0m                        \u001b[39mself\u001b[39m\u001b[39m.\u001b[39m\u001b[39m__class__\u001b[39m\u001b[39m.\u001b[39m\u001b[39m__name__\u001b[39m, \u001b[39m\"\u001b[39m\u001b[39m\\n\u001b[39;00m\u001b[39m\\t\u001b[39;00m\u001b[39m\"\u001b[39m\u001b[39m.\u001b[39mjoin(error_msgs)))\n\u001b[0;32m   2043\u001b[0m \u001b[39mreturn\u001b[39;00m _IncompatibleKeys(missing_keys, unexpected_keys)\n",
      "\u001b[1;31mRuntimeError\u001b[0m: Error(s) in loading state_dict for LitDLIRFramework:\n\tUnexpected key(s) in state_dict: \"dlir_framework.stages.0.network.conv_layers.0.conv.weight\", \"dlir_framework.stages.0.network.conv_layers.0.conv.bias\", \"dlir_framework.stages.0.network.conv_layers.1.conv.weight\", \"dlir_framework.stages.0.network.conv_layers.1.conv.bias\", \"dlir_framework.stages.0.network.conv_layers.2.conv.weight\", \"dlir_framework.stages.0.network.conv_layers.2.conv.bias\", \"dlir_framework.stages.0.network.conv_layers.3.conv.weight\", \"dlir_framework.stages.0.network.conv_layers.3.conv.bias\", \"dlir_framework.stages.0.network.conv_layers.4.conv.weight\", \"dlir_framework.stages.0.network.conv_layers.4.conv.bias\", \"dlir_framework.stages.0.network.dense_layers.0.conv.weight\", \"dlir_framework.stages.0.network.dense_layers.0.conv.bias\", \"dlir_framework.stages.0.network.dense_layers.1.conv.weight\", \"dlir_framework.stages.0.network.dense_layers.1.conv.bias\", \"dlir_framework.stages.0.network.dense_layers.2.conv.weight\", \"dlir_framework.stages.0.network.dense_layers.2.conv.bias\", \"dlir_framework.stages.0.transformer._upsampler.weight\", \"dlir_framework.stages.1.network.conv_layers.0.conv.weight\", \"dlir_framework.stages.1.network.conv_layers.0.conv.bias\", \"dlir_framework.stages.1.network.conv_layers.1.conv.weight\", \"dlir_framework.stages.1.network.conv_layers.1.conv.bias\", \"dlir_framework.stages.1.network.conv_layers.2.conv.weight\", \"dlir_framework.stages.1.network.conv_layers.2.conv.bias\", \"dlir_framework.stages.1.network.conv_layers.3.conv.weight\", \"dlir_framework.stages.1.network.conv_layers.3.conv.bias\", \"dlir_framework.stages.1.network.conv_layers.4.conv.weight\", \"dlir_framework.stages.1.network.conv_layers.4.conv.bias\", \"dlir_framework.stages.1.network.dense_layers.0.conv.weight\", \"dlir_framework.stages.1.network.dense_layers.0.conv.bias\", \"dlir_framework.stages.1.network.dense_layers.1.conv.weight\", \"dlir_framework.stages.1.network.dense_layers.1.conv.bias\", \"dlir_framework.stages.1.network.dense_layers.2.conv.weight\", \"dlir_framework.stages.1.network.dense_layers.2.conv.bias\", \"dlir_framework.stages.1.transformer._upsampler.weight\", \"dlir_framework.stages.2.network.conv_layers.0.conv.weight\", \"dlir_framework.stages.2.network.conv_layers.0.conv.bias\", \"dlir_framework.stages.2.network.conv_layers.1.conv.weight\", \"dlir_framework.stages.2.network.conv_layers.1.conv.bias\", \"dlir_framework.stages.2.network.conv_layers.2.conv.weight\", \"dlir_framework.stages.2.network.conv_layers.2.conv.bias\", \"dlir_framework.stages.2.network.conv_layers.3.conv.weight\", \"dlir_framework.stages.2.network.conv_layers.3.conv.bias\", \"dlir_framework.stages.2.network.conv_layers.4.conv.weight\", \"dlir_framework.stages.2.network.conv_layers.4.conv.bias\", \"dlir_framework.stages.2.network.dense_layers.0.conv.weight\", \"dlir_framework.stages.2.network.dense_layers.0.conv.bias\", \"dlir_framework.stages.2.network.dense_layers.1.conv.weight\", \"dlir_framework.stages.2.network.dense_layers.1.conv.bias\", \"dlir_framework.stages.2.network.dense_layers.2.conv.weight\", \"dlir_framework.stages.2.network.dense_layers.2.conv.bias\", \"dlir_framework.stages.2.transformer._upsampler.weight\". "
     ]
    }
   ],
   "source": [
    "model6 = LitDLIRFramework()\n",
    "model6.add_stage(network=DIRNet(grid_spacing=(4, 4), kernels=16, num_conv_layers=5, num_dense_layers=2),\n",
    "                transformer=BsplineTransformer(ndim=2, upsampling_factors=(4, 4)))\n",
    "model6.add_stage(network=DIRNet(grid_spacing=(4, 4), kernels=16, num_conv_layers=5, num_dense_layers=2),\n",
    "                transformer=BsplineTransformer(ndim=2, upsampling_factors=(4, 4)))\n",
    "model6.load_from_checkpoint(DEST_DIR / 'mnist_dlir_8_4.ckpt')\n",
    "\n",
    "visualize(model6)"
   ]
  },
  {
   "cell_type": "code",
   "execution_count": null,
   "metadata": {},
   "outputs": [],
   "source": [
    "model7 = LitDLIRFramework()\n",
    "model7.load_state_dict(torch.load(DEST_DIR / 'mnist_dlir_8_4.pt'))\n",
    "visualize(model7)"
   ]
  },
  {
   "cell_type": "code",
   "execution_count": null,
   "metadata": {},
   "outputs": [],
   "source": [
    "model8 = LitDIRNet.load_from_checkpoint(\"C:\\\\Users\\\\s4692034\\\\Documents\\\\GitHub\\\\TorchIR\\\\MNIST_output\\\\lightning_logs\\\\version_3\\\\checkpoints\\\\epoch=99-step=10000.ckpt\")\n",
    "visualize(model8)"
   ]
  },
  {
   "cell_type": "markdown",
   "metadata": {},
   "source": [
    "# Loading a model"
   ]
  },
  {
   "cell_type": "markdown",
   "metadata": {},
   "source": [
    "Loading a model for later use can be done as follows:"
   ]
  },
  {
   "cell_type": "code",
   "execution_count": null,
   "metadata": {},
   "outputs": [],
   "source": [
    "model = LitDLIRFramework()\n",
    "model.add_stage(GlobalTransformer(AIRNet(kernels=16)))\n",
    "model.add_stage(BsplineTransformer(DIRNet(grid_spacing=(8, 8), kernels=16, num_conv_layers=5, num_dense_layers=2)))\n",
    "model.add_stage(BsplineTransformer(DIRNet(grid_spacing=(4, 4), kernels=16, num_conv_layers=5, num_dense_layers=2)))\n",
    "model.load_state_dict(torch.load(DEST_DIR / 'mnist_dlir_affine_8_4.ckpt')['state_dict'])"
   ]
  }
 ],
 "metadata": {
  "kernelspec": {
   "display_name": "Python 3",
   "language": "python",
   "name": "python3"
  },
  "language_info": {
   "codemirror_mode": {
    "name": "ipython",
    "version": 3
   },
   "file_extension": ".py",
   "mimetype": "text/x-python",
   "name": "python",
   "nbconvert_exporter": "python",
   "pygments_lexer": "ipython3",
   "version": "3.10.13"
  },
  "pycharm": {
   "stem_cell": {
    "cell_type": "raw",
    "metadata": {
     "collapsed": false
    },
    "source": []
   }
  }
 },
 "nbformat": 4,
 "nbformat_minor": 4
}
