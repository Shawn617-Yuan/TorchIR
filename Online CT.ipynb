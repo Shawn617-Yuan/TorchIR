{
 "cells": [
  {
   "cell_type": "code",
   "execution_count": 1,
   "metadata": {},
   "outputs": [],
   "source": [
    "%load_ext autoreload\n",
    "\n",
    "%autoreload 2\n",
    "    \n",
    "%matplotlib inline\n",
    "import matplotlib.pyplot as plt\n",
    "from tqdm.notebook import tqdm\n",
    "from pathlib import Path\n",
    "DEST_DIR = Path('./output')"
   ]
  },
  {
   "cell_type": "code",
   "execution_count": 2,
   "metadata": {},
   "outputs": [],
   "source": [
    "import numpy as np\n",
    "import nibabel as nib\n",
    "import torch\n",
    "from torchvision import transforms\n",
    "from torchir.utils import IRDataSet\n",
    "from torch.utils.data import Dataset\n",
    "from pathlib import Path"
   ]
  },
  {
   "cell_type": "code",
   "execution_count": 3,
   "metadata": {},
   "outputs": [],
   "source": [
    "# Define a custom dataset for loading 3D CT images\n",
    "class CTDataSet(Dataset):\n",
    "    def __init__(self, image_paths, transform=None):\n",
    "        self.image_paths = image_paths\n",
    "        self.transform = transform\n",
    "\n",
    "    def __len__(self):\n",
    "        return len(self.image_paths)\n",
    "\n",
    "    def __getitem__(self, idx):\n",
    "        # Load NIFTI image\n",
    "        image = nib.load(self.image_paths[idx]).get_fdata()\n",
    "        \n",
    "        # Convert the image data to float32 type, as PyTorch's default is float32\n",
    "        image = np.asarray(image, dtype=np.float32)\n",
    "\n",
    "        # Add channel dimension: [1, depth, height, width]\n",
    "        image = np.expand_dims(image, axis=0)\n",
    "        \n",
    "        # Apply transformations if any\n",
    "        if self.transform:\n",
    "            image = self.transform(image)\n",
    "\n",
    "        return image"
   ]
  },
  {
   "cell_type": "code",
   "execution_count": 4,
   "metadata": {},
   "outputs": [],
   "source": [
    "# Define the path to the directory containing NIFTI images\n",
    "image_dir = Path(\"E:/s4692034/thorax_resampled\")\n",
    "image_paths = [str(p) for p in image_dir.glob(\"*.nii\")]\n",
    "# print(f\"Found {len(image_paths)} images\")\n",
    "\n",
    "# TODO: how to make the network accept different matrix size\n",
    "transform = None\n",
    "\n",
    "# Create an instance of the CTDataSet\n",
    "ct_dataset = CTDataSet(image_paths=image_paths, transform=transform)\n",
    "\n",
    "# Use the IRDataSet wrapper to produce pairs for registration tasks\n",
    "registration_dataset = IRDataSet(ct_dataset)"
   ]
  },
  {
   "cell_type": "markdown",
   "metadata": {},
   "source": [
    "### Different input matrix size"
   ]
  },
  {
   "cell_type": "code",
   "execution_count": 12,
   "metadata": {},
   "outputs": [],
   "source": [
    "# Define the path to the directory containing NIFTI images\n",
    "image_dir = Path(\"/30days/s4692034/Diff_matrix\")\n",
    "image_paths = [str(p) for p in image_dir.glob(\"*.nii\")]\n",
    "\n",
    "# TODO: how to make the network accept different matrix size\n",
    "transform = None\n",
    "\n",
    "# Create an instance of the CTDataSet\n",
    "ct_dataset = CTDataSet(image_paths=image_paths, transform=transform)\n",
    "\n",
    "# Use the IRDataSet wrapper to produce pairs for registration tasks\n",
    "registration_dataset = IRDataSet(ct_dataset)"
   ]
  },
  {
   "cell_type": "markdown",
   "metadata": {},
   "source": [
    "### Visualize the dataset"
   ]
  },
  {
   "cell_type": "code",
   "execution_count": 7,
   "metadata": {},
   "outputs": [
    {
     "data": {
      "application/vnd.jupyter.widget-view+json": {
       "model_id": "6404bfa4154047afa39209b697546ced",
       "version_major": 2,
       "version_minor": 0
      },
      "text/plain": [
       "interactive(children=(IntSlider(value=174, description='slice_idx', max=349), Output()), _dom_classes=('widget…"
      ]
     },
     "metadata": {},
     "output_type": "display_data"
    },
    {
     "data": {
      "application/vnd.jupyter.widget-view+json": {
       "model_id": "4693d5d8e4f04c039e5e15f741e335e5",
       "version_major": 2,
       "version_minor": 0
      },
      "text/plain": [
       "interactive(children=(IntSlider(value=174, description='slice_idx', max=349), Output()), _dom_classes=('widget…"
      ]
     },
     "metadata": {},
     "output_type": "display_data"
    }
   ],
   "source": [
    "def visualize_slices(volume, slice_direction=\"axial\"):\n",
    "    \"\"\"\n",
    "    Visualize 2D slices from a 3D volume.\n",
    "    \n",
    "    Parameters:\n",
    "        - volume: 3D numpy array representing the CT volume.\n",
    "        - slice_direction: Direction to slice the volume. Can be \"axial\", \"coronal\", or \"sagittal\".\n",
    "    \"\"\"\n",
    "    if slice_direction == \"axial\":\n",
    "        num_slices = volume.shape[2]\n",
    "    elif slice_direction == \"coronal\":\n",
    "        num_slices = volume.shape[1]\n",
    "    elif slice_direction == \"sagittal\":\n",
    "        num_slices = volume.shape[0]\n",
    "    else:\n",
    "        raise ValueError(\"Invalid slice_direction. Choose from 'axial', 'coronal', or 'sagittal'.\")\n",
    "    \n",
    "    # Function to display a specific slice\n",
    "    def display_slice(slice_idx):\n",
    "        if slice_direction == \"axial\":\n",
    "            plt.imshow(volume[:, :, slice_idx], cmap=\"gray\")\n",
    "        elif slice_direction == \"coronal\":\n",
    "            plt.imshow(volume[:, slice_idx, :], cmap=\"gray\")\n",
    "        else:  # sagittal\n",
    "            plt.imshow(volume[slice_idx, :, :], cmap=\"gray\")\n",
    "        plt.axis(\"off\")\n",
    "        plt.title(f\"{slice_direction.capitalize()} Slice {slice_idx}\")\n",
    "    \n",
    "    # Use interactive slider for slice selection\n",
    "    from ipywidgets import interact\n",
    "    interact(display_slice, slice_idx=(0, num_slices-1))\n",
    "\n",
    "# Example usage:\n",
    "# Assuming 'fixed_image' and 'moving_image' are 3D numpy arrays from your dataset\n",
    "fixed_image = np.squeeze(registration_dataset[0][\"fixed\"])\n",
    "moving_image = np.squeeze(registration_dataset[0][\"moving\"])\n",
    "\n",
    "\n",
    "# Visualize slices of the fixed image\n",
    "visualize_slices(fixed_image, slice_direction=\"axial\")\n",
    "\n",
    "# Visualize slices of the moving image\n",
    "visualize_slices(moving_image, slice_direction=\"axial\")"
   ]
  },
  {
   "cell_type": "code",
   "execution_count": 5,
   "metadata": {},
   "outputs": [
    {
     "name": "stdout",
     "output_type": "stream",
     "text": [
      "Training subset size: 309\n",
      "Validation subset size: 20\n",
      "Test subset size: 100\n"
     ]
    }
   ],
   "source": [
    "from torch.utils.data import random_split\n",
    "\n",
    "# Set up a random number generator\n",
    "rng = np.random.default_rng(617)\n",
    "\n",
    "# Split the dataset into training, validation, and test sets\n",
    "val_set_size = 20\n",
    "test_set_size = 100\n",
    "train_set_size = len(ct_dataset) - val_set_size - test_set_size\n",
    "\n",
    "ds_train_subset, ds_validation_subset, ds_test_subset = random_split(ct_dataset, [train_set_size, val_set_size, test_set_size], \n",
    "                                                        generator=torch.Generator().manual_seed(617))\n",
    "\n",
    "print(f'Training subset size: {len(ds_train_subset)}')\n",
    "print(f'Validation subset size: {len(ds_validation_subset)}')\n",
    "print(f'Test subset size: {len(ds_test_subset)}')"
   ]
  },
  {
   "cell_type": "code",
   "execution_count": 6,
   "metadata": {},
   "outputs": [
    {
     "name": "stdout",
     "output_type": "stream",
     "text": [
      "Training IR set size: 95481\n",
      "Validation IR set size: 400\n"
     ]
    }
   ],
   "source": [
    "# Create instances of the IRDataSet for training and validation sets to produce pairs for registration tasks\n",
    "ds_train = IRDataSet(ds_train_subset)\n",
    "ds_validation = IRDataSet(ds_validation_subset)\n",
    "\n",
    "print(f'Training IR set size: {len(ds_train)}')\n",
    "print(f'Validation IR set size: {len(ds_validation)}')"
   ]
  },
  {
   "cell_type": "code",
   "execution_count": 7,
   "metadata": {},
   "outputs": [],
   "source": [
    "batch_size = 2\n",
    "training_batches = 50\n",
    "validation_batches = 10\n",
    "\n",
    "# RandomSampler: Samples elements randomly from a given list of indices, with replacement.\n",
    "# num_samples: ensures that we get the desired number of training samples for each epoch.\n",
    "train_sampler = torch.utils.data.RandomSampler(ds_train, replacement=True, \n",
    "                                               num_samples=training_batches*batch_size, \n",
    "                                               generator=torch.Generator().manual_seed(617))\n",
    "\n",
    "# DataLoader: Combines a dataset and a sampler, and provides an iterable over the given dataset.\n",
    "train_loader = torch.utils.data.DataLoader(ds_train, batch_size, sampler=train_sampler)\n",
    "\n",
    "# Since no sampler is provided, it will simply iterate over the dataset in its original order.\n",
    "val_loader = torch.utils.data.DataLoader(ds_validation, batch_size)"
   ]
  },
  {
   "cell_type": "code",
   "execution_count": 11,
   "metadata": {},
   "outputs": [],
   "source": [
    "import pytorch_lightning as pl\n",
    "from torchir.networks import AIRNet\n",
    "from torchir.transformers import AffineTransformer\n",
    "from torchir.metrics import NCC\n",
    "\n",
    "\n",
    "class LitAIRNet(pl.LightningModule):\n",
    "    def __init__(self):\n",
    "        super().__init__()\n",
    "        self.airnet = AIRNet(kernels=16, ndim=3)\n",
    "        self.global_transformer = AffineTransformer(ndim=3)\n",
    "        self.metric = NCC()\n",
    "    \n",
    "    def configure_optimizers(self):\n",
    "        lr = 0.001\n",
    "        optimizer = torch.optim.Adam(self.airnet.parameters(), lr=lr, amsgrad=True)\n",
    "        return optimizer\n",
    "\n",
    "    def forward(self, fixed, moving):\n",
    "        # Get the transformation parameters between the fixed and moving images\n",
    "        parameters = self.airnet(fixed, moving)\n",
    "\n",
    "        # Apply this transformation to the moving image, producing the \"warped\" image.\n",
    "        warped  = self.global_transformer(parameters, fixed, moving)\n",
    "        return warped\n",
    "    \n",
    "    def training_step(self, batch, batch_idx):\n",
    "        warped = self(batch['fixed'], batch['moving'])\n",
    "        loss = self.metric(batch['fixed'], warped)\n",
    "        self.log('NCC/training', loss)\n",
    "        return loss\n",
    "    \n",
    "    def validation_step(self, batch, batch_idx):\n",
    "        warped = self(batch['fixed'], batch['moving'])\n",
    "        loss = self.metric(batch['fixed'], warped)\n",
    "        self.log('NCC/validation', loss)\n",
    "        return loss  "
   ]
  },
  {
   "cell_type": "code",
   "execution_count": 11,
   "metadata": {},
   "outputs": [
    {
     "name": "stderr",
     "output_type": "stream",
     "text": [
      "GPU available: False, used: False\n",
      "TPU available: False, using: 0 TPU cores\n",
      "IPU available: False, using: 0 IPUs\n",
      "HPU available: False, using: 0 HPUs\n",
      "\n",
      "  | Name               | Type              | Params\n",
      "---------------------------------------------------------\n",
      "0 | airnet             | AIRNet            | 35.4 K\n",
      "1 | global_transformer | AffineTransformer | 0     \n",
      "2 | metric             | NCC               | 0     \n",
      "---------------------------------------------------------\n",
      "35.4 K    Trainable params\n",
      "0         Non-trainable params\n",
      "35.4 K    Total params\n",
      "0.142     Total estimated model params size (MB)\n"
     ]
    },
    {
     "data": {
      "application/vnd.jupyter.widget-view+json": {
       "model_id": "2064f098ca814728a6f9d21e49a38260",
       "version_major": 2,
       "version_minor": 0
      },
      "text/plain": [
       "Sanity Checking: 0it [00:00, ?it/s]"
      ]
     },
     "metadata": {},
     "output_type": "display_data"
    },
    {
     "data": {
      "application/vnd.jupyter.widget-view+json": {
       "model_id": "7ae36190797647b9a717d23656bb4fac",
       "version_major": 2,
       "version_minor": 0
      },
      "text/plain": [
       "Training: 0it [00:00, ?it/s]"
      ]
     },
     "metadata": {},
     "output_type": "display_data"
    },
    {
     "data": {
      "application/vnd.jupyter.widget-view+json": {
       "model_id": "ecae297a0128405a9a2a16c825ec6b6e",
       "version_major": 2,
       "version_minor": 0
      },
      "text/plain": [
       "Validation: 0it [00:00, ?it/s]"
      ]
     },
     "metadata": {},
     "output_type": "display_data"
    },
    {
     "data": {
      "application/vnd.jupyter.widget-view+json": {
       "model_id": "f24ff07b2f7543ee8d99165fa334e527",
       "version_major": 2,
       "version_minor": 0
      },
      "text/plain": [
       "Validation: 0it [00:00, ?it/s]"
      ]
     },
     "metadata": {},
     "output_type": "display_data"
    },
    {
     "data": {
      "application/vnd.jupyter.widget-view+json": {
       "model_id": "ffb3e4dd290f471ca5a869d9fa21ddd0",
       "version_major": 2,
       "version_minor": 0
      },
      "text/plain": [
       "Validation: 0it [00:00, ?it/s]"
      ]
     },
     "metadata": {},
     "output_type": "display_data"
    },
    {
     "data": {
      "application/vnd.jupyter.widget-view+json": {
       "model_id": "a1a51a51c2f642ab856d4218307b5888",
       "version_major": 2,
       "version_minor": 0
      },
      "text/plain": [
       "Validation: 0it [00:00, ?it/s]"
      ]
     },
     "metadata": {},
     "output_type": "display_data"
    },
    {
     "data": {
      "application/vnd.jupyter.widget-view+json": {
       "model_id": "d760f7c3eb6d4745b4328803690edf27",
       "version_major": 2,
       "version_minor": 0
      },
      "text/plain": [
       "Validation: 0it [00:00, ?it/s]"
      ]
     },
     "metadata": {},
     "output_type": "display_data"
    },
    {
     "data": {
      "application/vnd.jupyter.widget-view+json": {
       "model_id": "0e7ef728c37547bd95cf2b5bf8203d00",
       "version_major": 2,
       "version_minor": 0
      },
      "text/plain": [
       "Validation: 0it [00:00, ?it/s]"
      ]
     },
     "metadata": {},
     "output_type": "display_data"
    },
    {
     "data": {
      "application/vnd.jupyter.widget-view+json": {
       "model_id": "062f67806cb14f71834d413f70b9f089",
       "version_major": 2,
       "version_minor": 0
      },
      "text/plain": [
       "Validation: 0it [00:00, ?it/s]"
      ]
     },
     "metadata": {},
     "output_type": "display_data"
    },
    {
     "data": {
      "application/vnd.jupyter.widget-view+json": {
       "model_id": "179fb96431284503b377b50317aa31d1",
       "version_major": 2,
       "version_minor": 0
      },
      "text/plain": [
       "Validation: 0it [00:00, ?it/s]"
      ]
     },
     "metadata": {},
     "output_type": "display_data"
    },
    {
     "data": {
      "application/vnd.jupyter.widget-view+json": {
       "model_id": "559a0c081cb04ce4b35886b9df363f2a",
       "version_major": 2,
       "version_minor": 0
      },
      "text/plain": [
       "Validation: 0it [00:00, ?it/s]"
      ]
     },
     "metadata": {},
     "output_type": "display_data"
    },
    {
     "data": {
      "application/vnd.jupyter.widget-view+json": {
       "model_id": "1a9b25bffbc149a48605e1e78d2bdfe0",
       "version_major": 2,
       "version_minor": 0
      },
      "text/plain": [
       "Validation: 0it [00:00, ?it/s]"
      ]
     },
     "metadata": {},
     "output_type": "display_data"
    },
    {
     "data": {
      "application/vnd.jupyter.widget-view+json": {
       "model_id": "9cdaa9ad903f4e689b7d73bb81373f47",
       "version_major": 2,
       "version_minor": 0
      },
      "text/plain": [
       "Validation: 0it [00:00, ?it/s]"
      ]
     },
     "metadata": {},
     "output_type": "display_data"
    },
    {
     "data": {
      "application/vnd.jupyter.widget-view+json": {
       "model_id": "0091495117f8477a83e36ad17656abaf",
       "version_major": 2,
       "version_minor": 0
      },
      "text/plain": [
       "Validation: 0it [00:00, ?it/s]"
      ]
     },
     "metadata": {},
     "output_type": "display_data"
    },
    {
     "data": {
      "application/vnd.jupyter.widget-view+json": {
       "model_id": "cf2d419c2d9b474a8e78931156837239",
       "version_major": 2,
       "version_minor": 0
      },
      "text/plain": [
       "Validation: 0it [00:00, ?it/s]"
      ]
     },
     "metadata": {},
     "output_type": "display_data"
    },
    {
     "data": {
      "application/vnd.jupyter.widget-view+json": {
       "model_id": "19505250581840d39172d6acc0f9030b",
       "version_major": 2,
       "version_minor": 0
      },
      "text/plain": [
       "Validation: 0it [00:00, ?it/s]"
      ]
     },
     "metadata": {},
     "output_type": "display_data"
    },
    {
     "data": {
      "application/vnd.jupyter.widget-view+json": {
       "model_id": "eb6b52130d9d443bbbaed6c8e8b39f09",
       "version_major": 2,
       "version_minor": 0
      },
      "text/plain": [
       "Validation: 0it [00:00, ?it/s]"
      ]
     },
     "metadata": {},
     "output_type": "display_data"
    },
    {
     "data": {
      "application/vnd.jupyter.widget-view+json": {
       "model_id": "e9a0ec94aad74272b8bd5fff5669f60d",
       "version_major": 2,
       "version_minor": 0
      },
      "text/plain": [
       "Validation: 0it [00:00, ?it/s]"
      ]
     },
     "metadata": {},
     "output_type": "display_data"
    },
    {
     "data": {
      "application/vnd.jupyter.widget-view+json": {
       "model_id": "5fd1659e75f54497a0fe5a3e556f89a5",
       "version_major": 2,
       "version_minor": 0
      },
      "text/plain": [
       "Validation: 0it [00:00, ?it/s]"
      ]
     },
     "metadata": {},
     "output_type": "display_data"
    },
    {
     "data": {
      "application/vnd.jupyter.widget-view+json": {
       "model_id": "4e7c28846bcb4e75a1519a5dd0c6ebb8",
       "version_major": 2,
       "version_minor": 0
      },
      "text/plain": [
       "Validation: 0it [00:00, ?it/s]"
      ]
     },
     "metadata": {},
     "output_type": "display_data"
    },
    {
     "data": {
      "application/vnd.jupyter.widget-view+json": {
       "model_id": "4b918ab0930e44e49b03f63ac12cffac",
       "version_major": 2,
       "version_minor": 0
      },
      "text/plain": [
       "Validation: 0it [00:00, ?it/s]"
      ]
     },
     "metadata": {},
     "output_type": "display_data"
    },
    {
     "data": {
      "application/vnd.jupyter.widget-view+json": {
       "model_id": "41c79da7dc3548c38b7d5a5ef97d0885",
       "version_major": 2,
       "version_minor": 0
      },
      "text/plain": [
       "Validation: 0it [00:00, ?it/s]"
      ]
     },
     "metadata": {},
     "output_type": "display_data"
    },
    {
     "data": {
      "application/vnd.jupyter.widget-view+json": {
       "model_id": "3000e671093e44319b1f080f3bc7129e",
       "version_major": 2,
       "version_minor": 0
      },
      "text/plain": [
       "Validation: 0it [00:00, ?it/s]"
      ]
     },
     "metadata": {},
     "output_type": "display_data"
    },
    {
     "data": {
      "application/vnd.jupyter.widget-view+json": {
       "model_id": "045f58ebeab94c2aa2e8b37f934735eb",
       "version_major": 2,
       "version_minor": 0
      },
      "text/plain": [
       "Validation: 0it [00:00, ?it/s]"
      ]
     },
     "metadata": {},
     "output_type": "display_data"
    },
    {
     "data": {
      "application/vnd.jupyter.widget-view+json": {
       "model_id": "949533b039284b70a3ac455cb1f67ce1",
       "version_major": 2,
       "version_minor": 0
      },
      "text/plain": [
       "Validation: 0it [00:00, ?it/s]"
      ]
     },
     "metadata": {},
     "output_type": "display_data"
    },
    {
     "data": {
      "application/vnd.jupyter.widget-view+json": {
       "model_id": "669ae626034949b1b1a8e0224ce7ca22",
       "version_major": 2,
       "version_minor": 0
      },
      "text/plain": [
       "Validation: 0it [00:00, ?it/s]"
      ]
     },
     "metadata": {},
     "output_type": "display_data"
    },
    {
     "data": {
      "application/vnd.jupyter.widget-view+json": {
       "model_id": "3b153477318649258aad8b1321dd81c5",
       "version_major": 2,
       "version_minor": 0
      },
      "text/plain": [
       "Validation: 0it [00:00, ?it/s]"
      ]
     },
     "metadata": {},
     "output_type": "display_data"
    },
    {
     "name": "stderr",
     "output_type": "stream",
     "text": [
      "`Trainer.fit` stopped: `max_epochs=25` reached.\n"
     ]
    }
   ],
   "source": [
    "model = LitAIRNet()\n",
    "trainer = pl.Trainer(default_root_dir=DEST_DIR, \n",
    "                     log_every_n_steps=50,\n",
    "                     val_check_interval=50, \n",
    "                     max_epochs=100)\n",
    "trainer.fit(model, train_loader, val_loader)"
   ]
  },
  {
   "cell_type": "code",
   "execution_count": 12,
   "metadata": {},
   "outputs": [],
   "source": [
    "trainer.save_checkpoint(DEST_DIR / 'mnist_ir_affine.ckpt')"
   ]
  },
  {
   "cell_type": "markdown",
   "metadata": {},
   "source": [
    "model = LitAIRNet.load_from_checkpoint(checkpoint_path=\"/data/home/s4692034/PythonProject/TorchIR/output/lightning_logs/version_0/checkpoints/epoch=25-step=130.ckpt\")"
   ]
  },
  {
   "cell_type": "code",
   "execution_count": 26,
   "metadata": {},
   "outputs": [
    {
     "data": {
      "application/vnd.jupyter.widget-view+json": {
       "model_id": "04a569ca382d487f9e67940121973243",
       "version_major": 2,
       "version_minor": 0
      },
      "text/plain": [
       "  0%|          | 0/5 [00:00<?, ?it/s]"
      ]
     },
     "metadata": {},
     "output_type": "display_data"
    },
    {
     "data": {
      "image/png": "[encoded data removed]",
      "text/plain": [
       "<Figure size 1200x600 with 3 Axes>"
      ]
     },
     "metadata": {},
     "output_type": "display_data"
    }
   ],
   "source": [
    "# Assuming your 3D CT images have shape (500, 500, 350)\n",
    "avg_moving = np.zeros((500, 500, 350), dtype=float)\n",
    "avg_warped = np.zeros((500, 500, 350), dtype=float)\n",
    "\n",
    "model = model.cpu()\n",
    "model.eval()\n",
    "fixed = ds_test_subset[0]\n",
    "\n",
    "with torch.no_grad():\n",
    "    for moving in tqdm(ds_test_subset):\n",
    "        # If they are numpy arrays, convert to PyTorch tensors\n",
    "        if isinstance(fixed, np.ndarray):\n",
    "            fixed = torch.tensor(fixed)\n",
    "        if isinstance(moving, np.ndarray):\n",
    "            moving = torch.tensor(moving)\n",
    "\n",
    "        # moving = data['moving']\n",
    "        warped = model(fixed[None].cpu(), moving[None].cpu()).detach().squeeze().cpu().numpy()\n",
    "        \n",
    "        avg_moving += moving.squeeze().cpu().numpy() / len(ds_test_subset)\n",
    "        avg_warped += warped / len(ds_test_subset)\n",
    "\n",
    "# Now, for visualization, you might want to display a slice from the middle\n",
    "slice_idx = 100\n",
    "\n",
    "plt.figure(figsize=(12, 6))\n",
    "\n",
    "plt.subplot(1, 3, 1)\n",
    "plt.imshow(avg_moving[:, :, slice_idx], cmap='gray')\n",
    "plt.title('Images before registration')\n",
    "plt.axis('off')\n",
    "\n",
    "plt.subplot(1, 3, 2)\n",
    "plt.imshow(avg_warped[:, :, slice_idx], cmap='gray')\n",
    "plt.title('Image after registration')\n",
    "plt.axis('off')\n",
    "\n",
    "plt.subplot(1, 3, 3)\n",
    "plt.imshow(fixed.squeeze().cpu().numpy()[:, :, slice_idx], cmap='gray')\n",
    "plt.title('Fixed Image')\n",
    "plt.axis('off')\n",
    "\n",
    "plt.tight_layout()\n",
    "plt.show()\n"
   ]
  },
  {
   "cell_type": "code",
   "execution_count": 27,
   "metadata": {},
   "outputs": [],
   "source": [
    "# Convert avg_warped to NIFTI image\n",
    "warped_img_nifti = nib.Nifti1Image(avg_warped, np.eye(4))\n",
    "\n",
    "# Save the image\n",
    "nib.save(warped_img_nifti, './avg_warped.nii.gz')"
   ]
  },
  {
   "cell_type": "code",
   "execution_count": 2,
   "metadata": {},
   "outputs": [
    {
     "ename": "FileNotFoundError",
     "evalue": "No such file or no access: 'E:/s4692034/thorax_resampled/resampled_63464433c8_CT_cropped_normalized.nii'",
     "output_type": "error",
     "traceback": [
      "\u001b[1;31m---------------------------------------------------------------------------\u001b[0m",
      "\u001b[1;31mFileNotFoundError\u001b[0m                         Traceback (most recent call last)",
      "File \u001b[1;32mc:\\Users\\s4692034\\AppData\\Local\\anaconda3\\envs\\cardiac\\lib\\site-packages\\nibabel\\loadsave.py:100\u001b[0m, in \u001b[0;36mload\u001b[1;34m(filename, **kwargs)\u001b[0m\n\u001b[0;32m     99\u001b[0m \u001b[39mtry\u001b[39;00m:\n\u001b[1;32m--> 100\u001b[0m     stat_result \u001b[39m=\u001b[39m os\u001b[39m.\u001b[39;49mstat(filename)\n\u001b[0;32m    101\u001b[0m \u001b[39mexcept\u001b[39;00m \u001b[39mOSError\u001b[39;00m:\n",
      "\u001b[1;31mFileNotFoundError\u001b[0m: [WinError 2] The system cannot find the file specified: 'E:/s4692034/thorax_resampled/resampled_63464433c8_CT_cropped_normalized.nii'",
      "\nDuring handling of the above exception, another exception occurred:\n",
      "\u001b[1;31mFileNotFoundError\u001b[0m                         Traceback (most recent call last)",
      "\u001b[1;32md:\\Temp\\s4692034\\TorchIR\\Online CT.ipynb Cell 18\u001b[0m line \u001b[0;36m4\n\u001b[0;32m      <a href='vscode-notebook-cell:/d%3A/Temp/s4692034/TorchIR/Online%20CT.ipynb#X23sZmlsZQ%3D%3D?line=0'>1</a>\u001b[0m \u001b[39mimport\u001b[39;00m \u001b[39mnibabel\u001b[39;00m \u001b[39mas\u001b[39;00m \u001b[39mnib\u001b[39;00m\n\u001b[0;32m      <a href='vscode-notebook-cell:/d%3A/Temp/s4692034/TorchIR/Online%20CT.ipynb#X23sZmlsZQ%3D%3D?line=2'>3</a>\u001b[0m path \u001b[39m=\u001b[39m \u001b[39m'\u001b[39m\u001b[39mE:/s4692034/thorax_resampled/resampled_63464433c8_CT_cropped_normalized.nii\u001b[39m\u001b[39m'\u001b[39m\n\u001b[1;32m----> <a href='vscode-notebook-cell:/d%3A/Temp/s4692034/TorchIR/Online%20CT.ipynb#X23sZmlsZQ%3D%3D?line=3'>4</a>\u001b[0m image \u001b[39m=\u001b[39m nib\u001b[39m.\u001b[39;49mload(path)\u001b[39m.\u001b[39mget_fdata()\n",
      "File \u001b[1;32mc:\\Users\\s4692034\\AppData\\Local\\anaconda3\\envs\\cardiac\\lib\\site-packages\\nibabel\\loadsave.py:102\u001b[0m, in \u001b[0;36mload\u001b[1;34m(filename, **kwargs)\u001b[0m\n\u001b[0;32m    100\u001b[0m     stat_result \u001b[39m=\u001b[39m os\u001b[39m.\u001b[39mstat(filename)\n\u001b[0;32m    101\u001b[0m \u001b[39mexcept\u001b[39;00m \u001b[39mOSError\u001b[39;00m:\n\u001b[1;32m--> 102\u001b[0m     \u001b[39mraise\u001b[39;00m \u001b[39mFileNotFoundError\u001b[39;00m(\u001b[39mf\u001b[39m\u001b[39m\"\u001b[39m\u001b[39mNo such file or no access: \u001b[39m\u001b[39m'\u001b[39m\u001b[39m{\u001b[39;00mfilename\u001b[39m}\u001b[39;00m\u001b[39m'\u001b[39m\u001b[39m\"\u001b[39m)\n\u001b[0;32m    103\u001b[0m \u001b[39mif\u001b[39;00m stat_result\u001b[39m.\u001b[39mst_size \u001b[39m<\u001b[39m\u001b[39m=\u001b[39m \u001b[39m0\u001b[39m:\n\u001b[0;32m    104\u001b[0m     \u001b[39mraise\u001b[39;00m ImageFileError(\u001b[39mf\u001b[39m\u001b[39m\"\u001b[39m\u001b[39mEmpty file: \u001b[39m\u001b[39m'\u001b[39m\u001b[39m{\u001b[39;00mfilename\u001b[39m}\u001b[39;00m\u001b[39m'\u001b[39m\u001b[39m\"\u001b[39m)\n",
      "\u001b[1;31mFileNotFoundError\u001b[0m: No such file or no access: 'E:/s4692034/thorax_resampled/resampled_63464433c8_CT_cropped_normalized.nii'"
     ]
    }
   ],
   "source": [
    "import nibabel as nib\n",
    "\n",
    "path = 'E:/s4692034/thorax_resampled/resampled_63464433c8_CT_cropped_normalized.nii'\n",
    "image = nib.load(path).get_fdata()\n"
   ]
  },
  {
   "cell_type": "code",
   "execution_count": 10,
   "metadata": {},
   "outputs": [
    {
     "name": "stderr",
     "output_type": "stream",
     "text": [
      "c:\\Users\\s4692034\\AppData\\Local\\anaconda3\\envs\\cardiac\\lib\\site-packages\\torchaudio\\backend\\utils.py:74: UserWarning: No audio backend is available.\n",
      "  warnings.warn(\"No audio backend is available.\")\n"
     ]
    }
   ],
   "source": [
    "import pytorch_lightning as pl\n",
    "from torchir.metrics import NCC\n",
    "from torchir.dlir_framework import DLIRFramework\n",
    "from torchir.networks import DIRNet\n",
    "from torchir.transformers import BsplineTransformer\n",
    "\n",
    "class LitDLIRFramework(pl.LightningModule):\n",
    "    def __init__(self, only_last_trainable=True):\n",
    "        super().__init__()\n",
    "        self.dlir_framework = DLIRFramework(only_last_trainable=only_last_trainable)\n",
    "        self.add_stage = self.dlir_framework.add_stage\n",
    "        self.metric = NCC()\n",
    "    \n",
    "    def configure_optimizers(self):\n",
    "        lr = 0.002\n",
    "        weight_decay = 0\n",
    "        optimizer = torch.optim.Adam(self.dlir_framework.parameters(), lr=lr, weight_decay=weight_decay, amsgrad=True)\n",
    "        return {'optimizer': optimizer}\n",
    "\n",
    "    def forward(self, fixed, moving):\n",
    "        warped = self.dlir_framework(fixed, moving)\n",
    "        return warped\n",
    "    \n",
    "    def training_step(self, batch, batch_idx):\n",
    "        warped = self(batch['fixed'], batch['moving'])\n",
    "        loss = self.metric(batch['fixed'], warped)\n",
    "        self.log('NCC/training', loss)\n",
    "        return loss\n",
    "    \n",
    "    def validation_step(self, batch, batch_idx):\n",
    "        warped = self(batch['fixed'], batch['moving'])\n",
    "        loss = self.metric(batch['fixed'], warped)\n",
    "        self.log('NCC/validation', loss)\n",
    "        return loss"
   ]
  },
  {
   "cell_type": "code",
   "execution_count": 13,
   "metadata": {},
   "outputs": [
    {
     "ename": "MisconfigurationException",
     "evalue": "`Trainer(strategy='ddp_spawn')` is not compatible with an interactive environment. Run your code as a script, or choose one of the compatible strategies: `Fabric(strategy='dp'|'ddp_notebook')`. In case you are spawning processes yourself, make sure to include the Trainer creation inside the worker function.",
     "output_type": "error",
     "traceback": [
      "\u001b[1;31m---------------------------------------------------------------------------\u001b[0m",
      "\u001b[1;31mMisconfigurationException\u001b[0m                 Traceback (most recent call last)",
      "\u001b[1;32md:\\Temp\\s4692034\\TorchIR\\Online CT.ipynb Cell 20\u001b[0m line \u001b[0;36m4\n\u001b[0;32m      <a href='vscode-notebook-cell:/d%3A/Temp/s4692034/TorchIR/Online%20CT.ipynb#X25sZmlsZQ%3D%3D?line=0'>1</a>\u001b[0m model \u001b[39m=\u001b[39m LitDLIRFramework()\n\u001b[0;32m      <a href='vscode-notebook-cell:/d%3A/Temp/s4692034/TorchIR/Online%20CT.ipynb#X25sZmlsZQ%3D%3D?line=1'>2</a>\u001b[0m model\u001b[39m.\u001b[39madd_stage(network\u001b[39m=\u001b[39mDIRNet(grid_spacing\u001b[39m=\u001b[39m(\u001b[39m8\u001b[39m, \u001b[39m8\u001b[39m, \u001b[39m8\u001b[39m), kernels\u001b[39m=\u001b[39m\u001b[39m16\u001b[39m, num_conv_layers\u001b[39m=\u001b[39m\u001b[39m5\u001b[39m, num_dense_layers\u001b[39m=\u001b[39m\u001b[39m2\u001b[39m, ndim\u001b[39m=\u001b[39m\u001b[39m3\u001b[39m),\n\u001b[0;32m      <a href='vscode-notebook-cell:/d%3A/Temp/s4692034/TorchIR/Online%20CT.ipynb#X25sZmlsZQ%3D%3D?line=2'>3</a>\u001b[0m                 transformer\u001b[39m=\u001b[39mBsplineTransformer(ndim\u001b[39m=\u001b[39m\u001b[39m3\u001b[39m, upsampling_factors\u001b[39m=\u001b[39m(\u001b[39m8\u001b[39m, \u001b[39m8\u001b[39m, \u001b[39m8\u001b[39m)))\n\u001b[1;32m----> <a href='vscode-notebook-cell:/d%3A/Temp/s4692034/TorchIR/Online%20CT.ipynb#X25sZmlsZQ%3D%3D?line=3'>4</a>\u001b[0m trainer \u001b[39m=\u001b[39m pl\u001b[39m.\u001b[39;49mTrainer(default_root_dir\u001b[39m=\u001b[39;49mDEST_DIR,\n\u001b[0;32m      <a href='vscode-notebook-cell:/d%3A/Temp/s4692034/TorchIR/Online%20CT.ipynb#X25sZmlsZQ%3D%3D?line=4'>5</a>\u001b[0m                      log_every_n_steps\u001b[39m=\u001b[39;49m\u001b[39m50\u001b[39;49m,\n\u001b[0;32m      <a href='vscode-notebook-cell:/d%3A/Temp/s4692034/TorchIR/Online%20CT.ipynb#X25sZmlsZQ%3D%3D?line=5'>6</a>\u001b[0m                      val_check_interval\u001b[39m=\u001b[39;49m\u001b[39m50\u001b[39;49m,\n\u001b[0;32m      <a href='vscode-notebook-cell:/d%3A/Temp/s4692034/TorchIR/Online%20CT.ipynb#X25sZmlsZQ%3D%3D?line=6'>7</a>\u001b[0m                      max_epochs\u001b[39m=\u001b[39;49m\u001b[39m100\u001b[39;49m,\n\u001b[0;32m      <a href='vscode-notebook-cell:/d%3A/Temp/s4692034/TorchIR/Online%20CT.ipynb#X25sZmlsZQ%3D%3D?line=7'>8</a>\u001b[0m                      strategy\u001b[39m=\u001b[39;49m\u001b[39m'\u001b[39;49m\u001b[39mddp_spawn\u001b[39;49m\u001b[39m'\u001b[39;49m)\n\u001b[0;32m      <a href='vscode-notebook-cell:/d%3A/Temp/s4692034/TorchIR/Online%20CT.ipynb#X25sZmlsZQ%3D%3D?line=8'>9</a>\u001b[0m trainer\u001b[39m.\u001b[39mfit(model, train_loader, val_loader)\n",
      "File \u001b[1;32mc:\\Users\\s4692034\\AppData\\Local\\anaconda3\\envs\\cardiac\\lib\\site-packages\\pytorch_lightning\\utilities\\argparse.py:70\u001b[0m, in \u001b[0;36m_defaults_from_env_vars.<locals>.insert_env_defaults\u001b[1;34m(self, *args, **kwargs)\u001b[0m\n\u001b[0;32m     67\u001b[0m kwargs \u001b[39m=\u001b[39m \u001b[39mdict\u001b[39m(\u001b[39mlist\u001b[39m(env_variables\u001b[39m.\u001b[39mitems()) \u001b[39m+\u001b[39m \u001b[39mlist\u001b[39m(kwargs\u001b[39m.\u001b[39mitems()))\n\u001b[0;32m     69\u001b[0m \u001b[39m# all args were already moved to kwargs\u001b[39;00m\n\u001b[1;32m---> 70\u001b[0m \u001b[39mreturn\u001b[39;00m fn(\u001b[39mself\u001b[39m, \u001b[39m*\u001b[39m\u001b[39m*\u001b[39mkwargs)\n",
      "File \u001b[1;32mc:\\Users\\s4692034\\AppData\\Local\\anaconda3\\envs\\cardiac\\lib\\site-packages\\pytorch_lightning\\trainer\\trainer.py:399\u001b[0m, in \u001b[0;36mTrainer.__init__\u001b[1;34m(self, accelerator, strategy, devices, num_nodes, precision, logger, callbacks, fast_dev_run, max_epochs, min_epochs, max_steps, min_steps, max_time, limit_train_batches, limit_val_batches, limit_test_batches, limit_predict_batches, overfit_batches, val_check_interval, check_val_every_n_epoch, num_sanity_val_steps, log_every_n_steps, enable_checkpointing, enable_progress_bar, enable_model_summary, accumulate_grad_batches, gradient_clip_val, gradient_clip_algorithm, deterministic, benchmark, inference_mode, use_distributed_sampler, profiler, detect_anomaly, barebones, plugins, sync_batchnorm, reload_dataloaders_every_n_epochs, default_root_dir)\u001b[0m\n\u001b[0;32m    396\u001b[0m \u001b[39m# init connectors\u001b[39;00m\n\u001b[0;32m    397\u001b[0m \u001b[39mself\u001b[39m\u001b[39m.\u001b[39m_data_connector \u001b[39m=\u001b[39m _DataConnector(\u001b[39mself\u001b[39m)\n\u001b[1;32m--> 399\u001b[0m \u001b[39mself\u001b[39m\u001b[39m.\u001b[39m_accelerator_connector \u001b[39m=\u001b[39m _AcceleratorConnector(\n\u001b[0;32m    400\u001b[0m     devices\u001b[39m=\u001b[39;49mdevices,\n\u001b[0;32m    401\u001b[0m     accelerator\u001b[39m=\u001b[39;49maccelerator,\n\u001b[0;32m    402\u001b[0m     strategy\u001b[39m=\u001b[39;49mstrategy,\n\u001b[0;32m    403\u001b[0m     num_nodes\u001b[39m=\u001b[39;49mnum_nodes,\n\u001b[0;32m    404\u001b[0m     sync_batchnorm\u001b[39m=\u001b[39;49msync_batchnorm,\n\u001b[0;32m    405\u001b[0m     benchmark\u001b[39m=\u001b[39;49mbenchmark,\n\u001b[0;32m    406\u001b[0m     use_distributed_sampler\u001b[39m=\u001b[39;49muse_distributed_sampler,\n\u001b[0;32m    407\u001b[0m     deterministic\u001b[39m=\u001b[39;49mdeterministic,\n\u001b[0;32m    408\u001b[0m     precision\u001b[39m=\u001b[39;49mprecision,\n\u001b[0;32m    409\u001b[0m     plugins\u001b[39m=\u001b[39;49mplugins,\n\u001b[0;32m    410\u001b[0m )\n\u001b[0;32m    411\u001b[0m \u001b[39mself\u001b[39m\u001b[39m.\u001b[39m_logger_connector \u001b[39m=\u001b[39m _LoggerConnector(\u001b[39mself\u001b[39m)\n\u001b[0;32m    412\u001b[0m \u001b[39mself\u001b[39m\u001b[39m.\u001b[39m_callback_connector \u001b[39m=\u001b[39m _CallbackConnector(\u001b[39mself\u001b[39m)\n",
      "File \u001b[1;32mc:\\Users\\s4692034\\AppData\\Local\\anaconda3\\envs\\cardiac\\lib\\site-packages\\pytorch_lightning\\trainer\\connectors\\accelerator_connector.py:173\u001b[0m, in \u001b[0;36m_AcceleratorConnector.__init__\u001b[1;34m(self, devices, num_nodes, accelerator, strategy, plugins, precision, sync_batchnorm, benchmark, use_distributed_sampler, deterministic)\u001b[0m\n\u001b[0;32m    170\u001b[0m \u001b[39mself\u001b[39m\u001b[39m.\u001b[39mprecision_plugin \u001b[39m=\u001b[39m \u001b[39mself\u001b[39m\u001b[39m.\u001b[39m_check_and_init_precision()\n\u001b[0;32m    172\u001b[0m \u001b[39m# 6. Instantiate Strategy - Part 2\u001b[39;00m\n\u001b[1;32m--> 173\u001b[0m \u001b[39mself\u001b[39;49m\u001b[39m.\u001b[39;49m_lazy_init_strategy()\n",
      "File \u001b[1;32mc:\\Users\\s4692034\\AppData\\Local\\anaconda3\\envs\\cardiac\\lib\\site-packages\\pytorch_lightning\\trainer\\connectors\\accelerator_connector.py:576\u001b[0m, in \u001b[0;36m_AcceleratorConnector._lazy_init_strategy\u001b[1;34m(self)\u001b[0m\n\u001b[0;32m    573\u001b[0m \u001b[39mself\u001b[39m\u001b[39m.\u001b[39mstrategy\u001b[39m.\u001b[39m_configure_launcher()\n\u001b[0;32m    575\u001b[0m \u001b[39mif\u001b[39;00m _IS_INTERACTIVE \u001b[39mand\u001b[39;00m \u001b[39mself\u001b[39m\u001b[39m.\u001b[39mstrategy\u001b[39m.\u001b[39mlauncher \u001b[39mand\u001b[39;00m \u001b[39mnot\u001b[39;00m \u001b[39mself\u001b[39m\u001b[39m.\u001b[39mstrategy\u001b[39m.\u001b[39mlauncher\u001b[39m.\u001b[39mis_interactive_compatible:\n\u001b[1;32m--> 576\u001b[0m     \u001b[39mraise\u001b[39;00m MisconfigurationException(\n\u001b[0;32m    577\u001b[0m         \u001b[39mf\u001b[39m\u001b[39m\"\u001b[39m\u001b[39m`Trainer(strategy=\u001b[39m\u001b[39m{\u001b[39;00m\u001b[39mself\u001b[39m\u001b[39m.\u001b[39m_strategy_flag\u001b[39m!r}\u001b[39;00m\u001b[39m)` is not compatible with an interactive\u001b[39m\u001b[39m\"\u001b[39m\n\u001b[0;32m    578\u001b[0m         \u001b[39m\"\u001b[39m\u001b[39m environment. Run your code as a script, or choose one of the compatible strategies:\u001b[39m\u001b[39m\"\u001b[39m\n\u001b[0;32m    579\u001b[0m         \u001b[39mf\u001b[39m\u001b[39m\"\u001b[39m\u001b[39m `Fabric(strategy=\u001b[39m\u001b[39m'\u001b[39m\u001b[39mdp\u001b[39m\u001b[39m'\u001b[39m\u001b[39m|\u001b[39m\u001b[39m'\u001b[39m\u001b[39mddp_notebook\u001b[39m\u001b[39m'\u001b[39m\u001b[39m)`.\u001b[39m\u001b[39m\"\u001b[39m\n\u001b[0;32m    580\u001b[0m         \u001b[39m\"\u001b[39m\u001b[39m In case you are spawning processes yourself, make sure to include the Trainer\u001b[39m\u001b[39m\"\u001b[39m\n\u001b[0;32m    581\u001b[0m         \u001b[39m\"\u001b[39m\u001b[39m creation inside the worker function.\u001b[39m\u001b[39m\"\u001b[39m\n\u001b[0;32m    582\u001b[0m     )\n\u001b[0;32m    584\u001b[0m \u001b[39m# TODO: should be moved to _check_strategy_and_fallback().\u001b[39;00m\n\u001b[0;32m    585\u001b[0m \u001b[39m# Current test check precision first, so keep this check here to meet error order\u001b[39;00m\n\u001b[0;32m    586\u001b[0m \u001b[39mif\u001b[39;00m \u001b[39misinstance\u001b[39m(\u001b[39mself\u001b[39m\u001b[39m.\u001b[39maccelerator, TPUAccelerator) \u001b[39mand\u001b[39;00m \u001b[39mnot\u001b[39;00m \u001b[39misinstance\u001b[39m(\n\u001b[0;32m    587\u001b[0m     \u001b[39mself\u001b[39m\u001b[39m.\u001b[39mstrategy, (SingleTPUStrategy, XLAStrategy)\n\u001b[0;32m    588\u001b[0m ):\n",
      "\u001b[1;31mMisconfigurationException\u001b[0m: `Trainer(strategy='ddp_spawn')` is not compatible with an interactive environment. Run your code as a script, or choose one of the compatible strategies: `Fabric(strategy='dp'|'ddp_notebook')`. In case you are spawning processes yourself, make sure to include the Trainer creation inside the worker function."
     ]
    }
   ],
   "source": [
    "model = LitDLIRFramework()\n",
    "model.add_stage(network=DIRNet(grid_spacing=(8, 8, 8), kernels=16, num_conv_layers=5, num_dense_layers=2, ndim=3),\n",
    "                transformer=BsplineTransformer(ndim=3, upsampling_factors=(8, 8, 8)))\n",
    "trainer = pl.Trainer(default_root_dir=DEST_DIR,\n",
    "                     log_every_n_steps=50,\n",
    "                     val_check_interval=50,\n",
    "                     max_epochs=100,\n",
    "                     strategy='ddp_spawn')\n",
    "trainer.fit(model, train_loader, val_loader)"
   ]
  },
  {
   "cell_type": "code",
   "execution_count": 16,
   "metadata": {},
   "outputs": [],
   "source": [
    "trainer.save_checkpoint(DEST_DIR / 'mnist_dlir_8.ckpt')"
   ]
  },
  {
   "cell_type": "code",
   "execution_count": 12,
   "metadata": {},
   "outputs": [
    {
     "ename": "NameError",
     "evalue": "name 'model' is not defined",
     "output_type": "error",
     "traceback": [
      "\u001b[1;31m---------------------------------------------------------------------------\u001b[0m",
      "\u001b[1;31mNameError\u001b[0m                                 Traceback (most recent call last)",
      "\u001b[1;32md:\\Temp\\s4692034\\TorchIR\\Online CT.ipynb Cell 22\u001b[0m line \u001b[0;36m5\n\u001b[0;32m      <a href='vscode-notebook-cell:/d%3A/Temp/s4692034/TorchIR/Online%20CT.ipynb#X30sZmlsZQ%3D%3D?line=1'>2</a>\u001b[0m avg_moving \u001b[39m=\u001b[39m np\u001b[39m.\u001b[39mzeros((\u001b[39m500\u001b[39m, \u001b[39m500\u001b[39m, \u001b[39m350\u001b[39m), dtype\u001b[39m=\u001b[39m\u001b[39mfloat\u001b[39m)\n\u001b[0;32m      <a href='vscode-notebook-cell:/d%3A/Temp/s4692034/TorchIR/Online%20CT.ipynb#X30sZmlsZQ%3D%3D?line=2'>3</a>\u001b[0m avg_warped \u001b[39m=\u001b[39m np\u001b[39m.\u001b[39mzeros((\u001b[39m500\u001b[39m, \u001b[39m500\u001b[39m, \u001b[39m350\u001b[39m), dtype\u001b[39m=\u001b[39m\u001b[39mfloat\u001b[39m)\n\u001b[1;32m----> <a href='vscode-notebook-cell:/d%3A/Temp/s4692034/TorchIR/Online%20CT.ipynb#X30sZmlsZQ%3D%3D?line=4'>5</a>\u001b[0m model \u001b[39m=\u001b[39m model\u001b[39m.\u001b[39mcuda()\n\u001b[0;32m      <a href='vscode-notebook-cell:/d%3A/Temp/s4692034/TorchIR/Online%20CT.ipynb#X30sZmlsZQ%3D%3D?line=5'>6</a>\u001b[0m model\u001b[39m.\u001b[39meval()\n\u001b[0;32m      <a href='vscode-notebook-cell:/d%3A/Temp/s4692034/TorchIR/Online%20CT.ipynb#X30sZmlsZQ%3D%3D?line=6'>7</a>\u001b[0m fixed \u001b[39m=\u001b[39m ds_test_subset[\u001b[39m0\u001b[39m]\n",
      "\u001b[1;31mNameError\u001b[0m: name 'model' is not defined"
     ]
    }
   ],
   "source": [
    "# Assuming your 3D CT images have shape (500, 500, 350)\n",
    "avg_moving = np.zeros((500, 500, 350), dtype=float)\n",
    "avg_warped = np.zeros((500, 500, 350), dtype=float)\n",
    "\n",
    "model = model.cuda()\n",
    "model.eval()\n",
    "fixed = ds_test_subset[0]\n",
    "\n",
    "with torch.no_grad():\n",
    "    for moving in tqdm(ds_test_subset):\n",
    "        # If they are numpy arrays, convert to PyTorch tensors\n",
    "        if isinstance(fixed, np.ndarray):\n",
    "            fixed = torch.tensor(fixed)\n",
    "        if isinstance(moving, np.ndarray):\n",
    "            moving = torch.tensor(moving)\n",
    "\n",
    "        # moving = data['moving']\n",
    "        warped = model(fixed[None].cuda(), moving[None].cuda()).detach().squeeze().cpu().numpy()\n",
    "        \n",
    "        avg_moving += moving.squeeze().cpu().numpy() / len(ds_test_subset)\n",
    "        avg_warped += warped / len(ds_test_subset)\n",
    "\n",
    "# Now, for visualization, you might want to display a slice from the middle\n",
    "slice_idx = 50\n",
    "\n",
    "plt.figure(figsize=(12, 6))\n",
    "\n",
    "plt.subplot(1, 3, 1)\n",
    "plt.imshow(avg_moving[:, :, slice_idx], cmap='gray')\n",
    "plt.title('Images before registration')\n",
    "plt.axis('off')\n",
    "\n",
    "plt.subplot(1, 3, 2)\n",
    "plt.imshow(avg_warped[:, :, slice_idx], cmap='gray')\n",
    "plt.title('Image after registration')\n",
    "plt.axis('off')\n",
    "\n",
    "plt.subplot(1, 3, 3)\n",
    "plt.imshow(fixed.squeeze().cpu().numpy()[:, :, slice_idx], cmap='gray')\n",
    "plt.title('Fixed Image')\n",
    "plt.axis('off')\n",
    "\n",
    "plt.tight_layout()\n",
    "plt.show()"
   ]
  },
  {
   "cell_type": "code",
   "execution_count": 13,
   "metadata": {},
   "outputs": [],
   "source": [
    "def visualize(checkpoint_path):\n",
    "    # Load the model from the checkpoint\n",
    "    model = LitDLIRFramework.load_from_checkpoint(checkpoint_path=checkpoint_path)\n",
    "    \n",
    "    avg_moving = np.zeros((500, 500, 350), dtype=float)\n",
    "    avg_warped = np.zeros((500, 500, 350), dtype=float)\n",
    "\n",
    "    model = model.cuda()\n",
    "    model.eval()\n",
    "    fixed = ds_test_subset[0]\n",
    "\n",
    "    with torch.no_grad():\n",
    "        for moving in tqdm(ds_test_subset):\n",
    "            if isinstance(fixed, np.ndarray):\n",
    "                fixed = torch.tensor(fixed)\n",
    "            if isinstance(moving, np.ndarray):\n",
    "                moving = torch.tensor(moving)\n",
    "\n",
    "            warped = model(fixed[None].cuda(), moving[None].cuda()).detach().squeeze().cpu().numpy()\n",
    "            avg_moving += moving.squeeze().cpu().numpy() / len(ds_test_subset)\n",
    "            avg_warped += warped / len(ds_test_subset)\n",
    "\n",
    "    # Visualization\n",
    "    slice_idx = 50\n",
    "    plt.figure(figsize=(12, 6))\n",
    "    plt.subplot(1, 3, 1)\n",
    "    plt.imshow(avg_moving[:, :, slice_idx], cmap='gray')\n",
    "    plt.title('Images before registration')\n",
    "    plt.axis('off')\n",
    "\n",
    "    plt.subplot(1, 3, 2)\n",
    "    plt.imshow(avg_warped[:, :, slice_idx], cmap='gray')\n",
    "    plt.title('Image after registration')\n",
    "    plt.axis('off')\n",
    "\n",
    "    plt.subplot(1, 3, 3)\n",
    "    plt.imshow(fixed.squeeze().cpu().numpy()[:, :, slice_idx], cmap='gray')\n",
    "    plt.title('Fixed Image')\n",
    "    plt.axis('off')\n",
    "\n",
    "    plt.tight_layout()\n",
    "    plt.show()\n",
    "\n",
    "    # After training, load the model and visualize the results\n",
    "    # checkpoint_path = DEST_DIR / 'mnist_dlir_8.ckpt'\n",
    "    checkpoint_path = \"D:\\\\Temp\\\\s4692034\\\\TorchIR\\\\output\\\\lightning_logs\\\\version_44\\\\checkpoints\\\\epoch=9-step=250.ckpt\"\n",
    "    visualize(checkpoint_path)"
   ]
  }
 ],
 "metadata": {
  "interpreter": {
   "hash": "dd20cddef8d30d2e448169d5ce8568fb764bad8f0f7ca48b6a5d10740cf0ee8d"
  },
  "kernelspec": {
   "display_name": "Python 3.10.12 64-bit (conda)",
   "language": "python",
   "name": "python3"
  },
  "language_info": {
   "codemirror_mode": {
    "name": "ipython",
    "version": 3
   },
   "file_extension": ".py",
   "mimetype": "text/x-python",
   "name": "python",
   "nbconvert_exporter": "python",
   "pygments_lexer": "ipython3",
   "version": "3.10.13"
  },
  "orig_nbformat": 4
 },
 "nbformat": 4,
 "nbformat_minor": 2
}
