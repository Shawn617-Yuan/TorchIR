{
 "cells": [
  {
   "cell_type": "markdown",
   "metadata": {},
   "source": [
    "# Evaluation at the end"
   ]
  },
  {
   "cell_type": "code",
   "execution_count": null,
   "metadata": {},
   "outputs": [],
   "source": [
    "import SimpleITK as sitk"
   ]
  },
  {
   "cell_type": "code",
   "execution_count": null,
   "metadata": {},
   "outputs": [],
   "source": [
    "def compute_mutual_information(fixed_image, moving_image):\n",
    "    # Setup a mutual information metric\n",
    "    metric = sitk.MutualInformationImageToImageMetricv4()\n",
    "    \n",
    "    # The metric requires a mask or sample points, for simplicity we create an arbitrary region mask\n",
    "    fixed_mask = sitk.Image(fixed_image.GetSize(), sitk.sitkUInt8)\n",
    "    fixed_mask.CopyInformation(fixed_image)\n",
    "    fixed_mask = sitk.Cast(fixed_image > fixed_image.GetPixelIDValueMax()*0.1, sitk.sitkUInt8)\n",
    "\n",
    "    metric.SetFixedImage(fixed_image)\n",
    "    metric.SetFixedImageRegion(fixed_image.GetBufferedRegion())\n",
    "    metric.SetFixedImageMask(fixed_mask)\n",
    "    metric.SetMovingImage(moving_image)\n",
    "    \n",
    "    # Use the JointHistogram as a faster way to compute MI without fully setting up registration framework\n",
    "    metric.Initialize(sitk.ImageToImageMetricv4.JointHistogram)\n",
    "\n",
    "    # Return MI value\n",
    "    return metric.GetValue()\n",
    "\n",
    "# Load your fixed and registered images\n",
    "fixed_image = sitk.ReadImage(\"/path_to_fixed_image.nii\")\n",
    "registered_moving_image = sitk.ReadImage(\"/path_where_you_saved_registered_image.nii\")\n",
    "\n",
    "mi_value = compute_mutual_information(fixed_image, registered_moving_image)\n",
    "print(f\"Mutual Information: {mi_value}\")\n"
   ]
  },
  {
   "cell_type": "code",
   "execution_count": null,
   "metadata": {},
   "outputs": [],
   "source": [
    "import nibabel as nib\n",
    "import torch\n",
    "from torchir.transformers import BsplineTransformer\n",
    "\n",
    "fixed_ct_image = nib.load(\"/90days/s4692034/RBWH_data/NIFTI_CT/PET/resampled/resampled_1_PET_normalized.nii\").get_fdata()\n",
    "moving_ct_image = nib.load(\"/90days/s4692034/RBWH_data/NIFTI_CT/SPECT/resampled/resampled_1_SPECT_normalized.nii\").get_fdata()\n",
    "\n",
    "fixed_ct_image = np.asarray(fixed_ct_image, dtype=np.float32)\n",
    "moving_ct_image = np.asarray(moving_ct_image, dtype=np.float32)\n",
    "\n",
    "fixed_ct_image = np.expand_dims(fixed_ct_image, axis=0)\n",
    "moving_ct_image = np.expand_dims(moving_ct_image, axis=0)\n",
    "\n",
    "model = model.cpu()\n",
    "model.eval()\n",
    "\n",
    "# Load Images using SimpleITK\n",
    "fixed_ct_image = sitk.ReadImage(\"/90days/s4692034/RBWH_data/NIFTI_CT/PET/resampled/resampled_1_PET_normalized.nii\")\n",
    "moving_ct_image = sitk.ReadImage(\"/90days/s4692034/RBWH_data/NIFTI_CT/SPECT/resampled/resampled_1_SPECT_normalized.nii\")\n",
    "\n",
    "# Convert SimpleITK images to PyTorch tensors for processing\n",
    "fixed_ct_tensor = torch.tensor(sitk.GetArrayFromImage(fixed_ct_image), dtype=torch.float32).unsqueeze(0).unsqueeze(0)\n",
    "moving_ct_tensor = torch.tensor(sitk.GetArrayFromImage(moving_ct_image), dtype=torch.float32).unsqueeze(0).unsqueeze(0)\n",
    "\n",
    "# Predict the DVF using the trained model\n",
    "with torch.no_grad():\n",
    "    predicted_dvf = model(fixed_ct_tensor, moving_ct_tensor)\n",
    "\n",
    "# Assuming the BsplineTransformer class has a method to apply the transform:\n",
    "bspline_transformer = BsplineTransformer(ndim=3, upsampling_factors=(8, 8, 8))  # Assuming 3D images and some upsampling factors\n",
    "\n",
    "# Apply the DVF to the moving SPECT image\n",
    "moving_spect_image = sitk.ReadImage(\"/90days/s4692034/RBWH_data/NIFTI_SPECT/resampled/resampled_1_PET_normalized.nii\")\n",
    "registered_spect_image = bspline_transformer.apply_transform(predicted_dvf, fixed_ct_image, moving_spect_image)\n",
    "\n",
    "# Save the registered image\n",
    "sitk.WriteImage(registered_spect_image, \"path_where_you_want_to_save_registered_image.nii\")\n",
    "\n",
    "# Predict the DVF using the trained model\n",
    "with torch.no_grad():\n",
    "    bspline_coefficients = model(fixed_ct_tensor, moving_ct_tensor)\n",
    "\n",
    "# Convert SimpleITK image to PyTorch tensor for processing\n",
    "moving_spect_tensor = torch.tensor(sitk.GetArrayFromImage(moving_spect_image), dtype=torch.float32).unsqueeze(0).unsqueeze(0)\n",
    "\n",
    "# Apply the DVF to the moving SPECT image using the apply_transform method\n",
    "registered_spect_tensor = bspline_transformer.apply_transform(bspline_coefficients, fixed_ct_tensor, moving_spect_tensor)\n",
    "\n",
    "# Convert the registered PyTorch tensor back to a SimpleITK image\n",
    "registered_spect_array = registered_spect_tensor.squeeze(0).squeeze(0).numpy()\n",
    "registered_spect_image = sitk.GetImageFromArray(registered_spect_array)\n",
    "registered_spect_image.SetSpacing(moving_spect_image.GetSpacing())\n",
    "registered_spect_image.SetOrigin(moving_spect_image.GetOrigin())\n",
    "registered_spect_image.SetDirection(moving_spect_image.GetDirection())\n",
    "\n",
    "# Save the registered image\n",
    "sitk.WriteImage(registered_spect_image, \"path_where_you_want_to_save_registered_image.nii\")"
   ]
  },
  {
   "cell_type": "code",
   "execution_count": null,
   "metadata": {},
   "outputs": [],
   "source": [
    "def compute_mutual_information(fixed_image, moving_image):\n",
    "    fixed_image = sitk.GetImageFromArray(fixed_image.cpu().numpy())\n",
    "    moving_image = sitk.GetImageFromArray(moving_image.cpu().numpy())\n",
    "    \n",
    "    registration_method = sitk.ImageRegistrationMethod()\n",
    "    registration_method.SetMetricAsMattesMutualInformation(numberOfHistogramBins=50)\n",
    "    registration_method.SetMetricSamplingStrategy(registration_method.RANDOM)\n",
    "    registration_method.SetMetricSamplingPercentage(0.01)\n",
    "    \n",
    "    return -registration_method.MetricEvaluate(fixed_image, moving_image)"
   ]
  }
 ],
 "metadata": {
  "language_info": {
   "name": "python"
  },
  "orig_nbformat": 4
 },
 "nbformat": 4,
 "nbformat_minor": 2
}
